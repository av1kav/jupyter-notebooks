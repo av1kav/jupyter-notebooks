{
 "cells": [
  {
   "cell_type": "code",
   "execution_count": null,
   "metadata": {
    "collapsed": true
   },
   "outputs": [],
   "source": [
    "import dpad.chisquare as cst\n",
    "import dpad.cosine_similarity as csim\n",
    "\n",
    "matrix = [[46,71],[37,83]]\n",
    "print(cst.chiSquareTest.__doc__)\n",
    "print(cst.chiSquareTest(2,2,matrix))\n",
    "\n",
    "\n",
    "matrix2 = [[1,1,0],[1,1,0],[1,0,0],[0,0,0],[0,0,0],[0,1,1],[1,1,0],[1,1,0],[0,1,0],[2,0,1],[1,1,1]]\n",
    "print(csim.cosineSimilarity.__doc__)\n",
    "print(csim.cosineSimilarity(11,matrix2,0,2))\n"
   ]
  }
 ],
 "metadata": {
  "kernelspec": {
   "display_name": "Python3",
   "language": "python",
   "name": "python3"
  },
  "language_info": {
   "codemirror_mode": {
    "name": "ipython",
    "version": 2
   },
   "file_extension": ".py",
   "mimetype": "text/x-python",
   "name": "python",
   "nbconvert_exporter": "python",
   "pygments_lexer": "ipython2",
   "version": "2.7.12"
  }
 },
 "nbformat": 4,
 "nbformat_minor": 2
}

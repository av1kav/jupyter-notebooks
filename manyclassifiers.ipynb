{
 "cells": [
  {
   "cell_type": "markdown",
   "metadata": {},
   "source": [
    "# Titanic Survivability Analysis using Various Classifiers"
   ]
  },
  {
   "cell_type": "code",
   "execution_count": 37,
   "metadata": {},
   "outputs": [],
   "source": [
    "import matplotlib.pyplot as plt\n",
    "import random\n",
    "import numpy as np\n",
    "import pandas as pd\n",
    "from sklearn import datasets,svm,model_selection,tree,preprocessing,metrics\n",
    "import sklearn.ensemble as ske\n",
    "import tensorflow as tf"
   ]
  },
  {
   "cell_type": "markdown",
   "metadata": {},
   "source": [
    "## Importing dataset and Basic Analytics"
   ]
  },
  {
   "cell_type": "code",
   "execution_count": 38,
   "metadata": {},
   "outputs": [
    {
     "data": {
      "image/png": "[encoded data removed]",
      "text/plain": [
       "<matplotlib.figure.Figure at 0x285c6ad5da0>"
      ]
     },
     "metadata": {},
     "output_type": "display_data"
    },
    {
     "name": "stdout",
     "output_type": "stream",
     "text": [
      "0.381970970206\n",
      "        survived        age     sibsp     parch       fare        body\n",
      "pclass                                                                \n",
      "1       0.619195  39.159918  0.436533  0.365325  87.508992  162.828571\n",
      "2       0.429603  29.506705  0.393502  0.368231  21.179196  167.387097\n",
      "3       0.255289  24.816367  0.568406  0.400564  13.302889  155.818182\n",
      "               survived        age     sibsp     parch        fare        body\n",
      "pclass sex                                                                    \n",
      "1      female  0.965278  37.037594  0.555556  0.472222  109.412385         NaN\n",
      "       male    0.340782  41.029250  0.340782  0.279330   69.888385  162.828571\n",
      "2      female  0.886792  27.499191  0.500000  0.650943   23.234827   52.000000\n",
      "       male    0.146199  30.815401  0.327485  0.192982   19.904946  171.233333\n",
      "3      female  0.490741  22.185307  0.791667  0.731481   15.324250  183.000000\n",
      "       male    0.152130  25.962273  0.470588  0.255578   12.415462  151.854167\n"
     ]
    }
   ],
   "source": [
    "# Dataset import into pandas dataframe\n",
    "titanic_df = pd.read_excel('titanic3.xls','titanic3',index_col=None,na_values=['NA'])\n",
    "#print(titanic_df.head())\n",
    "\n",
    "# Scatter Plot - pretty much all women in first class survived\n",
    "class_sex_grouping['survived'].plot.bar()\n",
    "plt.show()\n",
    "\n",
    "# Show means of features(columns) by class\n",
    "print(titanic_df['survived'].mean())\n",
    "print(titanic_df.groupby('pclass').mean())\n",
    "\n",
    "# Class-sex grouping\n",
    "class_sex_grouping = titanic_df.groupby(['pclass','sex']).mean()\n",
    "print(class_sex_grouping)\n",
    "\n"
   ]
  },
  {
   "cell_type": "markdown",
   "metadata": {},
   "source": [
    "## Preprocessing"
   ]
  },
  {
   "cell_type": "code",
   "execution_count": 39,
   "metadata": {
    "collapsed": true
   },
   "outputs": [],
   "source": [
    "# Preprocessing\n",
    "\n",
    "def preprocess(df):\n",
    "\tprocessed_df = df.copy()\n",
    "\t# LabelEncoder converts categorical strings\n",
    "\t# such as Male and Female to integers\n",
    "\t# for make it easier to process \n",
    "\tle = preprocessing.LabelEncoder()\n",
    "\tprocessed_df.sex = le.fit_transform(processed_df.sex)\n",
    "\tprocessed_df.embarked = le.fit_transform(processed_df.embarked)\n",
    "\t# Since Name, Ticket and Destination are not class\n",
    "\t# Labels we drop them too.\n",
    "\tprocessed_df = processed_df.drop(['name','ticket','home.dest'],axis=1)\n",
    "\treturn processed_df"
   ]
  },
  {
   "cell_type": "markdown",
   "metadata": {},
   "source": [
    "# Discovering bad features for classification"
   ]
  },
  {
   "cell_type": "markdown",
   "metadata": {},
   "source": [
    "We cannot preprocess data which has missing values or NaNs in them. Here, we drop features which aren't very good for classification and clean the remaining data before preprocessing"
   ]
  },
  {
   "cell_type": "code",
   "execution_count": 40,
   "metadata": {},
   "outputs": [
    {
     "name": "stdout",
     "output_type": "stream",
     "text": [
      "pclass          0\n",
      "survived        0\n",
      "name            0\n",
      "sex             0\n",
      "age           263\n",
      "sibsp           0\n",
      "parch           0\n",
      "ticket          0\n",
      "fare            1\n",
      "cabin        1014\n",
      "embarked        2\n",
      "boat          823\n",
      "body         1188\n",
      "home.dest     564\n",
      "dtype: int64\n"
     ]
    }
   ],
   "source": [
    "# Print out no. of NaNs in each feature(column)\n",
    "print(titanic_df.isnull().sum())\n",
    "\n",
    "# Since 'body', 'cabin' and 'boat' have a large number of NaNs, drop them\n",
    "titanic_df = titanic_df.drop(['body','cabin','boat'],axis=1)\n",
    "\n",
    "# To drop NaN fields in kept features, first find all those NaNs and fill them as \"NA\"\n",
    "titanic_df['home.dest'] = titanic_df['home.dest'].fillna(\"NA\")\n",
    "# Next, use df.dropna() to drop all fields with NA in them automatically.\n",
    "titanic_df = titanic_df.dropna()\n",
    "\n",
    "processed_df=preprocess(titanic_df) # Okay, preprocess cleaned data"
   ]
  },
  {
   "cell_type": "markdown",
   "metadata": {},
   "source": [
    "## Generate Training and Testing data"
   ]
  },
  {
   "cell_type": "code",
   "execution_count": 41,
   "metadata": {
    "collapsed": true
   },
   "outputs": [],
   "source": [
    "# X is data; contains all features other than 'survived' (make X by dropping 'survived' column alone)\n",
    "X = processed_df.drop(['survived'],axis=1).values\n",
    "\n",
    "# Y is class label: Yes or No. (make Y by only keeping the 'survived' column) \n",
    "Y = processed_df['survived'].values"
   ]
  },
  {
   "cell_type": "markdown",
   "metadata": {},
   "source": [
    "## Creating Classifiers"
   ]
  },
  {
   "cell_type": "code",
   "execution_count": 42,
   "metadata": {},
   "outputs": [],
   "source": [
    "# Simple Decision Tree Classifier\n",
    "simpleclf = tree.DecisionTreeClassifier(max_depth=10)\n",
    "\n",
    "# Random Forest Classifier\n",
    "rfclf = ske.RandomForestClassifier()\n",
    "\n",
    "# Gradient Boosting Classifier\n",
    "gbclf = ske.GradientBoostingClassifier()\n"
   ]
  },
  {
   "cell_type": "markdown",
   "metadata": {},
   "source": [
    "### Using ShuffleSplit() to decrease variance of data by shuffling input and taking an average"
   ]
  },
  {
   "cell_type": "markdown",
   "metadata": {},
   "source": [
    "If we use the conventional train_test_split for training and testing data, we may introduce a bias or variance into the model because the data is always loaded in the same way. Thus if data happened to be structured in a way where sharp differences are seen in exactly the places where the train-test split occurs, our model may perform very poorly (unlikley to occur, though). Here's where a shuffle validator comes in: we take n random permutations and find the mean of their validation scores using cross_val_score(). This is a better representative of the overall accuracy of the model for a particular dataset."
   ]
  },
  {
   "cell_type": "code",
   "execution_count": 43,
   "metadata": {},
   "outputs": [],
   "source": [
    "# Build a validator which creates n_splits = 20 permutations\n",
    "shuffle_validator = model_selection.ShuffleSplit(n_splits=20, test_size=0.2,random_state=0)\n",
    "\n",
    "# score() will cross validate n_splits times and the show the mean val_score\n",
    "def score(clf,name):\n",
    "\t# 80-20 split\n",
    "\tscores = model_selection.cross_val_score(clf,X,Y,cv=shuffle_validator)\n",
    "\tprint(\"For \"+name+\" classifier: \")\n",
    "\tprint(\"Accuracy: %0.4f (+/- %0.2f)\"%(scores.mean(),scores.std()))\n",
    "\treturn scores.mean(), scores.std()"
   ]
  },
  {
   "cell_type": "code",
   "execution_count": 44,
   "metadata": {},
   "outputs": [
    {
     "name": "stdout",
     "output_type": "stream",
     "text": [
      "For DecisionTree classifier: \n",
      "Accuracy: 0.7746 (+/- 0.02)\n",
      "For RandomForest classifier: \n",
      "Accuracy: 0.7744 (+/- 0.02)\n",
      "For GradientBoosting classifier: \n",
      "Accuracy: 0.8165 (+/- 0.02)\n"
     ]
    },
    {
     "data": {
      "image/png": "[encoded data removed]",
      "text/plain": [
       "<matplotlib.figure.Figure at 0x285c5632908>"
      ]
     },
     "metadata": {},
     "output_type": "display_data"
    }
   ],
   "source": [
    "# Placeholder variables\n",
    "sclf_val_acc=0\n",
    "sclf_acc_std = 0\n",
    "rfclf_val_acc = 0\n",
    "rfclf_acc_std = 0\n",
    "gbclf_val_acc = 0\n",
    "gbclf_acc_std = 0\n",
    "\n",
    "# Compare performance of the models\n",
    "sclf_val_acc, sclf_acc_std = score(simpleclf,'DecisionTree')\n",
    "rfclf_val_acc, rfclf_acc_std = score(rfclf,'RandomForest')\n",
    "gbclf_val_acc, gbclf_acc_std = score(gbclf,'GradientBoosting')\n",
    "\n",
    "# Plot\n",
    "classifiers = ['DecisionTree','RandomForest','GradientBoosting']\n",
    "accuracies = [sclf_val_acc, rfclf_val_acc, gbclf_val_acc]\n",
    "uncertainties = [sclf_acc_std, rfclf_acc_std, gbclf_acc_std]\n",
    "\n",
    "xtick = np.arange(len(classifiers)) # here [1,2,3]\n",
    "width = 0.5\n",
    "\n",
    "plt.bar(xtick,accuracies,width,align='center')\n",
    "plt.xticks(xtick,classifiers) # Replace ticks with classifier names\n",
    "plt.show()\n"
   ]
  },
  {
   "cell_type": "markdown",
   "metadata": {},
   "source": [
    "And there you have it! From a glance, it appears that Gradient Boosting has the best overall accuracy, whereas Random Forests and regular Decision Trees are pretty neck-and-neck. However, none of these accuracies are very high. This can be attributed to insufficient amount or appropriateness of data, as well as overfitting. Some approaches such as reduced error pruning aim to reduce overfitting by removing nodes in a decision tree which have no effect on the overall accuracy of the data. This may improve the performance a little, but ultimately it is better to use deep learning to help us solve such problems. Hopefully no analysis on any future Titanics ever has to happen.\n",
    "\n",
    "I'll never let go, Jack!"
   ]
  },
  {
   "cell_type": "code",
   "execution_count": null,
   "metadata": {
    "collapsed": true
   },
   "outputs": [],
   "source": []
  }
 ],
 "metadata": {
  "kernelspec": {
   "display_name": "root",
   "language": "python",
   "name": "root"
  },
  "language_info": {
   "codemirror_mode": {
    "name": "ipython",
    "version": 3
   },
   "file_extension": ".py",
   "mimetype": "text/x-python",
   "name": "python",
   "nbconvert_exporter": "python",
   "pygments_lexer": "ipython3",
   "version": "3.5.2"
  }
 },
 "nbformat": 4,
 "nbformat_minor": 2
}

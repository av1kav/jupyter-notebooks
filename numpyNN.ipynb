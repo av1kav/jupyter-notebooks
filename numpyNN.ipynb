{
 "cells": [
  {
   "cell_type": "markdown",
   "id": "10a66d93",
   "metadata": {},
   "source": [
    "# Neural Nets from scratch, in Numpy"
   ]
  },
  {
   "cell_type": "code",
   "execution_count": 3,
   "id": "ce91e2ac",
   "metadata": {},
   "outputs": [],
   "source": [
    "import numpy as np\n",
    "from sklearn.datasets import fetch_openml\n",
    "import matplotlib.pyplot as plt\n",
    "from autograd import grad, numpy as autograd_np"
   ]
  },
  {
   "cell_type": "markdown",
   "id": "7a923e5f",
   "metadata": {},
   "source": [
    "## Network Architecture"
   ]
  },
  {
   "cell_type": "markdown",
   "id": "05bd63c0",
   "metadata": {},
   "source": [
    "LeCun et. al.'s seminal LeNet-5 is a great basic network to grok the implementation of the math behind neural nets. To begin with, we define a set of activation functions that add non-linearity to what is otherwise essentially a complex linear regression solver:"
   ]
  },
  {
   "cell_type": "markdown",
   "id": "e592f323",
   "metadata": {},
   "source": [
    "### Activations"
   ]
  },
  {
   "cell_type": "code",
   "execution_count": 61,
   "id": "515a1f9f",
   "metadata": {},
   "outputs": [],
   "source": [
    "def _relu(x):\n",
    "    return autograd_np.maximum(0, x)\n",
    "\n",
    "def _sigmoid(x):\n",
    "    x_clip = autograd_np.clip(x, -700, 700)\n",
    "    return 1 / (1 + autograd_np.exp(-x_clip))\n",
    "\n",
    "activation_function_map = {\n",
    "    'relu': _relu,\n",
    "    'sigmoid': _sigmoid\n",
    "}"
   ]
  },
  {
   "cell_type": "markdown",
   "id": "8896ac5d",
   "metadata": {},
   "source": [
    "Next, we define loss functions to measure the quality of the output layer. Since this is a classification problem, we need class membership probabilities; the sigmoid function is used as the activation of the final layer for this. The loss function, therefore, must compare this class membership probability vector against the label (ground truth) for that training observation. "
   ]
  },
  {
   "cell_type": "markdown",
   "id": "d6d5f157",
   "metadata": {},
   "source": [
    "### Loss Functions"
   ]
  },
  {
   "cell_type": "code",
   "execution_count": 54,
   "id": "4d9c5a04",
   "metadata": {},
   "outputs": [],
   "source": [
    "def _rmse(y, y_pred):\n",
    "    # RMSE = sqrt of (1/n) summation{ (y_i - y_pred_i)**2 }\n",
    "    return autograd_np.sqrt((1/y.shape[0]) * np.sum((y - y_pred) ** 2))\n",
    "\n",
    "def _crossentropy(y, y_pred):\n",
    "    # Prevent log(0)\n",
    "    eps = 1e-15\n",
    "    y_pred = autograd_np.clip(y_pred, eps, 1 - eps)\n",
    "\n",
    "    # CE = -summation{ (y_i * log(y_pred_i) + (1-y_i)*log(1-y_pred_i)}\n",
    "    return (1/y.shape[0]) * -autograd_np.sum((y * autograd_np.log(y_pred)) + ((1-y) * autograd_np.log(1-y_pred)))\n"
   ]
  },
  {
   "cell_type": "markdown",
   "id": "ffaec768",
   "metadata": {},
   "source": [
    "## The Dense Layers "
   ]
  },
  {
   "cell_type": "markdown",
   "id": "e48dfbab",
   "metadata": {},
   "source": [
    "The LeNet-5 architecture implements three dense (fully-connected) layers after feature extraction. This class defines a layer and supports weight and bias management - both during initialization as well as during backpropagation"
   ]
  },
  {
   "cell_type": "code",
   "execution_count": null,
   "id": "3e21fd1a",
   "metadata": {},
   "outputs": [],
   "source": [
    "class FullyConnectedLayer():\n",
    "    def __init__(self, layer_config):\n",
    "        self.input_size = layer_config['input_dim']\n",
    "        self.output_size = layer_config['output_dim']\n",
    "\n",
    "        # For random normal, mu=0, sigma=1\n",
    "        mu, sigma = 0, 1\n",
    "        self.W = np.random.normal(loc=mu, scale=sigma, size=(self.output_size, self.input_size))\n",
    "        self.b =  np.random.normal(loc=mu, scale=sigma, size=self.output_size)\n",
    "        activation_function = 'relu' if not layer_config.get('activation') else layer_config.get('activation')\n",
    "        self.activation = activation_function_map[activation_function]\n",
    "        \n",
    "        # Current Layer: pre-activation and output values\n",
    "        self.z = None\n",
    "        self.a = None\n",
    "\n",
    "        # Previous Layer: pre-activation output values for backprop\n",
    "        self.prev_layer_z = None\n",
    "        self.prev_layer_a = None\n",
    "\n",
    "\n",
    "    def forward(self, input):\n",
    "        # Ensure we do not anger the numpy gods\n",
    "        assert input.shape[0] == self.W.shape[1], f\"Shape mismatch: input dim {input.shape[0]} but W expects {self.W.shape[1]}\"\n",
    "\n",
    "        # Computation 1: z[l] = W[l] a · [l-1] + b[l] \n",
    "        self.z = np.dot(self.W, input) + self.b\n",
    "        # Computation 2: a[l] = activation(z[l])\n",
    "        self.a = self.activation(self.z)\n",
    "\n",
    "        try:\n",
    "            # Keeping track of prev layer output for backprop\n",
    "            self.prev_layer_z = input.z\n",
    "            self.prev_layer_a = input.a\n",
    "        except AttributeError as e:\n",
    "            # In case the prev layer is the raw input and not another FC Layer\n",
    "            print(f\"Gracefully handling: {e}\")\n",
    "            self.prev_layer_z = None\n",
    "            self.prev_layer_a = input\n",
    "\n",
    "    def backward(self, dA):\n",
    "        \"\"\"\n",
    "        Implement backpropagation.\n",
    "        \n",
    "        Args:\n",
    "            dA: Gradient of loss L wrt. the output (activation) of this layer. Shorthand for to dL/da\n",
    "        Returns:\n",
    "            dA[l-1]: Gradient of loss L wrt. the output of the previous layer, for backprop.\n",
    "        \"\"\"\n",
    "\n",
    "        # Step 1: Compute error signal (dL/dz[l]) called del[l] = dL/da[l] x σ'(z[l]), where σ' = activation derivative\n",
    "        # del[l] = dL/da[l] x σ'(z[l]) \n",
    "        activation_derivative = grad(self.activation)\n",
    "        del_l = dA, activation_derivative(self.z)\n",
    "\n",
    "        # Step 2: Compute loss grad wrt. W and b of current layer i.e. dL/dW[l] and dL/db[l]\n",
    "        # dL/dw i.e. dW = del[l] x a[l-1].T\n",
    "        # dL/db i.e. db = del[l]\n",
    "        dW = np.dot(del_l, self.prev_layer_a.T)\n",
    "        db = del_l\n",
    "\n",
    "        # Step 3: Propagate dL/da[l-1] backwards to use in the del[l] calculation (Step 1) in the previous layer\n",
    "        # del[l-1]  = W[l].T * del[l] * σ'(z[l-1])\n",
    "        if self.prev_layer_z is not None:\n",
    "            del_l_prev = np.dot(self.W.T, del_l) * activation_derivative(self.prev_layer_z)\n",
    "        else:\n",
    "            del_l_prev = np.dot(self.W.T, del_l)\n",
    "\n",
    "        return del_l_prev"
   ]
  },
  {
   "cell_type": "markdown",
   "id": "b3a124ba",
   "metadata": {},
   "source": [
    "## Gathering Data: MNIST"
   ]
  },
  {
   "cell_type": "markdown",
   "id": "7f0c7065",
   "metadata": {},
   "source": [
    "LeNet-5 was trained on actual handwritten digits extracted from material belonging to the US Postal Service; fortunately, as the dataset is foundation ald quite popular, it is available to download and parse easily:"
   ]
  },
  {
   "cell_type": "code",
   "execution_count": 56,
   "id": "2db607ae",
   "metadata": {},
   "outputs": [],
   "source": [
    "mnist = fetch_openml('mnist_784')\n",
    "X = mnist.data\n",
    "y = mnist.target"
   ]
  },
  {
   "cell_type": "code",
   "execution_count": 57,
   "id": "fc552db8",
   "metadata": {},
   "outputs": [
    {
     "data": {
      "text/plain": [
       "<matplotlib.image.AxesImage at 0x12fd02dd0>"
      ]
     },
     "execution_count": 57,
     "metadata": {},
     "output_type": "execute_result"
    },
    {
     "data": {
      "image/png": "[encoded data removed]",
      "text/plain": [
       "<Figure size 640x480 with 1 Axes>"
      ]
     },
     "metadata": {},
     "output_type": "display_data"
    }
   ],
   "source": [
    "plt.imshow(X.values[0].reshape(28,28), cmap='gray')"
   ]
  },
  {
   "cell_type": "markdown",
   "id": "e5061fb4",
   "metadata": {},
   "source": [
    "## Implementing LeNet-5 (under construction)"
   ]
  },
  {
   "cell_type": "code",
   "execution_count": 66,
   "id": "079dd911",
   "metadata": {},
   "outputs": [
    {
     "name": "stdout",
     "output_type": "stream",
     "text": [
      "Gracefully handling: 'numpy.ndarray' object has no attribute 'z'\n",
      "Gracefully handling: 'numpy.ndarray' object has no attribute 'z'\n",
      "Gracefully handling: 'numpy.ndarray' object has no attribute 'z'\n",
      "Loss at step 1: 6.907915198468176\n",
      "grad: [-3.4539576   3.45387764  3.45387764  3.45387764  3.45387764  3.45387764\n",
      " -3.4539576  -3.4539576   3.45387764  3.45387764]\n"
     ]
    },
    {
     "ename": "TypeError",
     "evalue": "Grad only applies to real scalar-output functions. Try jacobian, elementwise_grad or holomorphic_grad.",
     "output_type": "error",
     "traceback": [
      "\u001b[0;31m---------------------------------------------------------------------------\u001b[0m",
      "\u001b[0;31mTypeError\u001b[0m                                 Traceback (most recent call last)",
      "Cell \u001b[0;32mIn[66], line 27\u001b[0m\n\u001b[1;32m     24\u001b[0m \u001b[38;5;28mprint\u001b[39m(\u001b[38;5;124mf\u001b[39m\u001b[38;5;124m\"\u001b[39m\u001b[38;5;124mgrad: \u001b[39m\u001b[38;5;132;01m{\u001b[39;00mgradients\u001b[38;5;132;01m}\u001b[39;00m\u001b[38;5;124m\"\u001b[39m)\n\u001b[1;32m     26\u001b[0m \u001b[38;5;66;03m# Backpropagate del[l]\u001b[39;00m\n\u001b[0;32m---> 27\u001b[0m hidden_layer_del \u001b[38;5;241m=\u001b[39m \u001b[43moutput_layer\u001b[49m\u001b[38;5;241;43m.\u001b[39;49m\u001b[43mbackward\u001b[49m\u001b[43m(\u001b[49m\u001b[43mloss_grad\u001b[49m\u001b[43m)\u001b[49m\n\u001b[1;32m     28\u001b[0m input_layer_del \u001b[38;5;241m=\u001b[39m hidden_layer\u001b[38;5;241m.\u001b[39mbackward(hidden_layer_del)\n\u001b[1;32m     29\u001b[0m input_layer\u001b[38;5;241m.\u001b[39mbackward(input_layer_del)\n",
      "Cell \u001b[0;32mIn[65], line 54\u001b[0m, in \u001b[0;36mFullyConnectedLayer.backward\u001b[0;34m(self, dA)\u001b[0m\n\u001b[1;32m     51\u001b[0m \u001b[38;5;66;03m# Step 1: Compute error signal (dL/dz[l]) called del[l] = dL/da[l] x σ'(z[l]), where σ' = activation derivative\u001b[39;00m\n\u001b[1;32m     52\u001b[0m \u001b[38;5;66;03m# del[l] = dL/da[l] x σ'(z[l]) \u001b[39;00m\n\u001b[1;32m     53\u001b[0m activation_derivative \u001b[38;5;241m=\u001b[39m grad(\u001b[38;5;28mself\u001b[39m\u001b[38;5;241m.\u001b[39mactivation)\n\u001b[0;32m---> 54\u001b[0m del_l \u001b[38;5;241m=\u001b[39m np\u001b[38;5;241m.\u001b[39mdot(dA, \u001b[43mactivation_derivative\u001b[49m\u001b[43m(\u001b[49m\u001b[38;5;28;43mself\u001b[39;49m\u001b[38;5;241;43m.\u001b[39;49m\u001b[43mz\u001b[49m\u001b[43m)\u001b[49m)\n\u001b[1;32m     56\u001b[0m \u001b[38;5;66;03m# Step 2: Compute loss grad wrt. W and b of current layer i.e. dL/dW[l] and dL/db[l]\u001b[39;00m\n\u001b[1;32m     57\u001b[0m \u001b[38;5;66;03m# dL/dw i.e. dW = del[l] x a[l-1].T\u001b[39;00m\n\u001b[1;32m     58\u001b[0m \u001b[38;5;66;03m# dL/db i.e. db = del[l]\u001b[39;00m\n\u001b[1;32m     59\u001b[0m dW \u001b[38;5;241m=\u001b[39m np\u001b[38;5;241m.\u001b[39mdot(del_l, \u001b[38;5;28mself\u001b[39m\u001b[38;5;241m.\u001b[39mprev_layer_a\u001b[38;5;241m.\u001b[39mT)\n",
      "File \u001b[0;32m~/Desktop/UB Work/MGS 616 Predictive Analytics/.venv/lib/python3.11/site-packages/autograd/wrap_util.py:20\u001b[0m, in \u001b[0;36munary_to_nary.<locals>.nary_operator.<locals>.nary_f\u001b[0;34m(*args, **kwargs)\u001b[0m\n\u001b[1;32m     18\u001b[0m \u001b[38;5;28;01melse\u001b[39;00m:\n\u001b[1;32m     19\u001b[0m     x \u001b[38;5;241m=\u001b[39m \u001b[38;5;28mtuple\u001b[39m(args[i] \u001b[38;5;28;01mfor\u001b[39;00m i \u001b[38;5;129;01min\u001b[39;00m argnum)\n\u001b[0;32m---> 20\u001b[0m \u001b[38;5;28;01mreturn\u001b[39;00m \u001b[43munary_operator\u001b[49m\u001b[43m(\u001b[49m\u001b[43munary_f\u001b[49m\u001b[43m,\u001b[49m\u001b[43m \u001b[49m\u001b[43mx\u001b[49m\u001b[43m,\u001b[49m\u001b[43m \u001b[49m\u001b[38;5;241;43m*\u001b[39;49m\u001b[43mnary_op_args\u001b[49m\u001b[43m,\u001b[49m\u001b[43m \u001b[49m\u001b[38;5;241;43m*\u001b[39;49m\u001b[38;5;241;43m*\u001b[39;49m\u001b[43mnary_op_kwargs\u001b[49m\u001b[43m)\u001b[49m\n",
      "File \u001b[0;32m~/Desktop/UB Work/MGS 616 Predictive Analytics/.venv/lib/python3.11/site-packages/autograd/differential_operators.py:30\u001b[0m, in \u001b[0;36mgrad\u001b[0;34m(fun, x)\u001b[0m\n\u001b[1;32m     28\u001b[0m vjp, ans \u001b[38;5;241m=\u001b[39m _make_vjp(fun, x)\n\u001b[1;32m     29\u001b[0m \u001b[38;5;28;01mif\u001b[39;00m \u001b[38;5;129;01mnot\u001b[39;00m vspace(ans)\u001b[38;5;241m.\u001b[39msize \u001b[38;5;241m==\u001b[39m \u001b[38;5;241m1\u001b[39m:\n\u001b[0;32m---> 30\u001b[0m     \u001b[38;5;28;01mraise\u001b[39;00m \u001b[38;5;167;01mTypeError\u001b[39;00m(\u001b[38;5;124m\"\u001b[39m\u001b[38;5;124mGrad only applies to real scalar-output functions. \u001b[39m\u001b[38;5;124m\"\u001b[39m\n\u001b[1;32m     31\u001b[0m                     \u001b[38;5;124m\"\u001b[39m\u001b[38;5;124mTry jacobian, elementwise_grad or holomorphic_grad.\u001b[39m\u001b[38;5;124m\"\u001b[39m)\n\u001b[1;32m     32\u001b[0m \u001b[38;5;28;01mreturn\u001b[39;00m vjp(vspace(ans)\u001b[38;5;241m.\u001b[39mones())\n",
      "\u001b[0;31mTypeError\u001b[0m: Grad only applies to real scalar-output functions. Try jacobian, elementwise_grad or holomorphic_grad."
     ]
    }
   ],
   "source": [
    "# LeNet-5 (only dense layers for testing)\n",
    "input_layer =  FullyConnectedLayer(layer_config={'input_dim': 784,'output_dim': 30, 'activation': 'relu'})\n",
    "hidden_layer = FullyConnectedLayer(layer_config={'input_dim': 30, 'output_dim': 10, 'activation': 'relu'})\n",
    "output_layer = FullyConnectedLayer(layer_config={'input_dim': 10, 'output_dim': 10, 'activation': 'sigmoid'})\n",
    "\n",
    "for i in range(1,10):\n",
    "    x = X.values[i].copy()\n",
    "\n",
    "    # Forward pass\n",
    "    input_layer.forward(input=x)\n",
    "    hidden_layer.forward(input_layer.a)\n",
    "    output_layer.forward(hidden_layer.a)\n",
    "\n",
    "    # Compare prediction vs ground truth\n",
    "    y_true = np.eye(10)[int(y.values[i])] \n",
    "    y_pred = output_layer.a\n",
    "    loss = _crossentropy(y_true, y_pred)\n",
    "    \n",
    "    # Compute gradient of loss wrt model output\n",
    "    loss_grad = grad(_crossentropy)\n",
    "    gradients = loss_grad(y_true, y_pred)\n",
    "    \n",
    "    print(f\"Loss at step {i}: {loss}\")\n",
    "    print(f\"grad: {gradients}\")\n",
    "\n",
    "    # Backpropagate del[l]\n",
    "    hidden_layer_del = output_layer.backward(loss_grad)\n",
    "    input_layer_del = hidden_layer.backward(hidden_layer_del)\n",
    "    input_layer.backward(input_layer_del)\n"
   ]
  }
 ],
 "metadata": {
  "kernelspec": {
   "display_name": ".venv",
   "language": "python",
   "name": "python3"
  },
  "language_info": {
   "codemirror_mode": {
    "name": "ipython",
    "version": 3
   },
   "file_extension": ".py",
   "mimetype": "text/x-python",
   "name": "python",
   "nbconvert_exporter": "python",
   "pygments_lexer": "ipython3",
   "version": "3.11.9"
  }
 },
 "nbformat": 4,
 "nbformat_minor": 5
}

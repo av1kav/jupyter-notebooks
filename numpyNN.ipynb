{
 "cells": [
  {
   "cell_type": "markdown",
   "id": "10a66d93",
   "metadata": {},
   "source": [
    "# Neural Nets from scratch, in Numpy"
   ]
  },
  {
   "cell_type": "code",
   "execution_count": 1,
   "id": "ce91e2ac",
   "metadata": {},
   "outputs": [],
   "source": [
    "from sklearn.datasets import fetch_openml\n",
    "import matplotlib.pyplot as plt\n",
    "from autograd import grad, elementwise_grad, jacobian, numpy as autograd_np"
   ]
  },
  {
   "cell_type": "markdown",
   "id": "7a923e5f",
   "metadata": {},
   "source": [
    "## Network Architecture"
   ]
  },
  {
   "cell_type": "markdown",
   "id": "05bd63c0",
   "metadata": {},
   "source": [
    "LeCun et. al.'s seminal [LeNet-5](http://vision.stanford.edu/cs598_spring07/papers/Lecun98.pdf) is a fantastic basic network to grok the implementation of the math behind neural nets. To begin with, we define a set of activation functions that add non-linearity to what is otherwise essentially a large linear regression solver:"
   ]
  },
  {
   "cell_type": "markdown",
   "id": "e592f323",
   "metadata": {},
   "source": [
    "### Activations"
   ]
  },
  {
   "cell_type": "code",
   "execution_count": 2,
   "id": "515a1f9f",
   "metadata": {},
   "outputs": [],
   "source": [
    "def _relu(x):\n",
    "    return autograd_np.maximum(0, x)\n",
    "\n",
    "def _sigmoid(x):\n",
    "    # My definition of a (highly numerically unstable) sigmoid function. Redefined below with an implementation that is more stable.\n",
    "    x_clip = autograd_np.clip(x, -700, 700)\n",
    "    return 1 / (1 + autograd_np.exp(-x_clip))\n",
    "\n",
    "\n",
    "activation_function_map = {\n",
    "    'relu': _relu,\n",
    "    'sigmoid': _sigmoid,\n",
    "}"
   ]
  },
  {
   "cell_type": "markdown",
   "id": "8896ac5d",
   "metadata": {},
   "source": [
    "Next, we define loss functions to measure the quality of the output layer. Since this is a classification problem, we need class membership probabilities; the sigmoid function is used as the activation of the final layer for this. The loss function, therefore, must compare this class membership probability vector against the label (ground truth) for that training observation. "
   ]
  },
  {
   "cell_type": "markdown",
   "id": "d6d5f157",
   "metadata": {},
   "source": [
    "### Loss Functions"
   ]
  },
  {
   "cell_type": "code",
   "execution_count": 3,
   "id": "4d9c5a04",
   "metadata": {},
   "outputs": [],
   "source": [
    "def _crossentropy(y, y_pred):\n",
    "    # Prevent log(0)\n",
    "    eps = 1e-15\n",
    "    y_pred = autograd_np.clip(y_pred, eps, 1 - eps)\n",
    "\n",
    "    # CE = -summation{ (y_i * log(y_pred_i) + (1-y_i)*log(1-y_pred_i)}\n",
    "    return (1/y.shape[0]) * -autograd_np.sum((y * autograd_np.log(y_pred)) + ((1-y) * autograd_np.log(1-y_pred)))"
   ]
  },
  {
   "cell_type": "markdown",
   "id": "ffaec768",
   "metadata": {},
   "source": [
    "## The Dense Layers "
   ]
  },
  {
   "cell_type": "markdown",
   "id": "e48dfbab",
   "metadata": {},
   "source": [
    "The LeNet-5 architecture implements three dense (fully-connected) layers after feature extraction. This class defines a layer and supports weight and bias management - both during initialization as well as during backpropagation"
   ]
  },
  {
   "cell_type": "code",
   "execution_count": 4,
   "id": "3e21fd1a",
   "metadata": {},
   "outputs": [],
   "source": [
    "class FullyConnectedLayer():\n",
    "    \"\"\"Class to manage a 'dense' or fully-connected layer of neurons.\"\"\"\n",
    "    def __init__(self, layer_config):\n",
    "        \"\"\"\n",
    "        Initialize a 'layer' of a neural network.\n",
    "\n",
    "        Args:\n",
    "            layer_config: A dict containing configuration information. Helps configure the following:\n",
    "                W: a vector of weights  to match mathematical convention of W.Tx + b\n",
    "                b: a vector of biases b for each neuron\n",
    "                z: a vector of preactivation values (i.e. weighted sum input to each neuron)\n",
    "                activation_function: An autograd-tracked mathematical function to add nonlinearity to the preactivation z\n",
    "                a: a vector of postactivation values (i.e. activation_function(z))\n",
    "                prev_z: a vector of preactivation values of the previous layer\n",
    "                prev_a: a vector of postactivation values of the previous layer\n",
    "        Returns:\n",
    "            None\n",
    "        \"\"\"\n",
    "        self.input_size = layer_config['input_dim']\n",
    "        self.output_size = layer_config['output_dim']\n",
    "        self.id = layer_config.get('id', None)\n",
    "\n",
    "        # For random normal, mu=0, sigma=1\n",
    "        mu, sigma = 0, 0.01\n",
    "        self.W = autograd_np.random.normal(loc=mu, scale=sigma, size=(self.output_size, self.input_size))\n",
    "        self.b =  autograd_np.zeros(self.output_size)\n",
    "        activation_function = 'relu' if not layer_config.get('activation') else layer_config.get('activation')\n",
    "        self.activation = activation_function_map[activation_function]\n",
    "        \n",
    "        # Current Layer: pre-activation and output values\n",
    "        self.z = None\n",
    "        self.a = None\n",
    "\n",
    "        # Previous Layer: pre-activation output values for backprop\n",
    "        self.prev_layer_z = None\n",
    "        self.prev_layer_a = None\n",
    "\n",
    "\n",
    "    def forward(self, input):\n",
    "        \"\"\"\n",
    "        Implement the forward pass.\n",
    "\n",
    "        Args:\n",
    "            input: A previous FC Layer or the raw input x values. This will be used to compute z and a, and keeps track of prev_z and prev_a\n",
    "                for use during backpropagation.\n",
    "        Returns:\n",
    "            None\n",
    "        \"\"\"\n",
    "        if isinstance(input, FullyConnectedLayer):\n",
    "            x = input.a # input is the previous FC layer, not raw X values, so extract the post-activation vector a from the FC layer\n",
    "            self.prev_layer_z = input.z\n",
    "            self.prev_layer_a = input.a   \n",
    "        else:\n",
    "            x = input # input is the raw X values\n",
    "            self.prev_layer_z = None\n",
    "            self.prev_layer_a = input\n",
    "\n",
    "        # Ensure we do not anger the numpy gods\n",
    "        assert x.shape[0] == self.W.shape[1], f\"Shape mismatch: input dim {x.shape[0]}, W dim {self.W.shape[1]}\"\n",
    "\n",
    "        # Computation 1: z[l] = W[l]·x + b[l] , where x = a[l-1] if the input is a FC layer, and the raw X values otherwise\n",
    "        self.z = autograd_np.dot(self.W, x) + self.b\n",
    "        # Computation 2: a[l] = activation(z[l])\n",
    "        self.a = self.activation(self.z)\n",
    "\n",
    "    def backward(self, dA):\n",
    "        \"\"\"\n",
    "        Implement backpropagation.\n",
    "        \n",
    "        Args:\n",
    "            dA: Gradient of loss L wrt. the output (activation) of this layer. Shorthand for to dL/da\n",
    "        Returns:\n",
    "            dA[l-1]: Gradient of loss L wrt. the output of the previous layer, for backprop.\n",
    "        \"\"\"\n",
    "\n",
    "        # Step 1: Compute error signal dL/dz[l] called del[l] = dL/da[l] x σ'(z[l]), where σ' = activation derivative\n",
    "        # del[l] = dL/da[l] x σ'(z[l]) \n",
    "        activation_derivative = elementwise_grad(self.activation) # σ'()\n",
    "        self.del_l = dA * activation_derivative(self.z) # dL/da[l] x σ'(z[l]) \n",
    "\n",
    "        # Step 2: Compute loss grad wrt. W and b of current layer i.e. dL/dW[l] and dL/db[l]\n",
    "        # dL/dw i.e. dW = del[l] x a[l-1].T\n",
    "        # dL/db i.e. db = del[l]\n",
    "        self.dW = autograd_np.outer(self.del_l, self.prev_layer_a)\n",
    "        self.db = self.del_l\n",
    "\n",
    "        # Step 3: Propagate dL/da[l-1] backwards to use in the del[l] calculation (Step 1) in the previous layer\n",
    "        # del[l-1]  = W[l].T * del[l] * σ'(z[l-1])\n",
    "\n",
    "        if self.prev_layer_z is not None:\n",
    "            del_l_prev = autograd_np.dot(self.W.T, self.del_l) * activation_derivative(self.prev_layer_z)\n",
    "        else:\n",
    "            del_l_prev = autograd_np.dot(self.W.T, self.del_l)\n",
    "        \n",
    "        return del_l_prev\n",
    "    \n",
    "    def step(self, learning_rate):\n",
    "        # θ <- θ - η · ∇L\n",
    "        self.W = self.W - learning_rate * self.dW\n",
    "        self.b = self.b - learning_rate * self.db\n"
   ]
  },
  {
   "cell_type": "markdown",
   "id": "e5061fb4",
   "metadata": {},
   "source": [
    "## Implementing LeNet-5 (under construction)"
   ]
  },
  {
   "cell_type": "markdown",
   "id": "b3a124ba",
   "metadata": {},
   "source": [
    "### Gathering Data: MNIST"
   ]
  },
  {
   "cell_type": "markdown",
   "id": "7f0c7065",
   "metadata": {},
   "source": [
    "LeNet-5 was trained on actual handwritten digits extracted from material belonging to the US Postal Service; fortunately, as the dataset is foundational andd quite popular, it is available to download and parse easily:"
   ]
  },
  {
   "cell_type": "code",
   "execution_count": 5,
   "id": "2db607ae",
   "metadata": {},
   "outputs": [],
   "source": [
    "mnist = fetch_openml('mnist_784')\n",
    "X = mnist.data\n",
    "y = mnist.target"
   ]
  },
  {
   "cell_type": "code",
   "execution_count": 6,
   "id": "fc552db8",
   "metadata": {},
   "outputs": [
    {
     "data": {
      "text/plain": [
       "<matplotlib.image.AxesImage at 0x117fc6990>"
      ]
     },
     "execution_count": 6,
     "metadata": {},
     "output_type": "execute_result"
    },
    {
     "data": {
      "image/png": "[encoded data removed]",
      "text/plain": [
       "<Figure size 640x480 with 1 Axes>"
      ]
     },
     "metadata": {},
     "output_type": "display_data"
    }
   ],
   "source": [
    "plt.imshow(X.values[0].reshape(28,28), cmap='gray')"
   ]
  },
  {
   "cell_type": "markdown",
   "id": "3b245277",
   "metadata": {},
   "source": [
    "### The first forward pass"
   ]
  },
  {
   "cell_type": "code",
   "execution_count": 7,
   "id": "079dd911",
   "metadata": {},
   "outputs": [
    {
     "name": "stdout",
     "output_type": "stream",
     "text": [
      "Actual class label for sample 42: \n",
      "[0. 0. 0. 0. 0. 0. 0. 1. 0. 0.]\n",
      "Predicted class label probabilities for sample 42: \n",
      "[0.498162   0.49975479 0.50428915 0.5008841  0.50023381 0.49924943\n",
      " 0.50822488 0.50474022 0.49720043 0.50644706]\n",
      "\n",
      "CrossEntropy Loss for first forward pass: 0.695121025150937\n"
     ]
    }
   ],
   "source": [
    "# LeNet-5 (only dense layers for testing)\n",
    "input_layer =  FullyConnectedLayer(layer_config={'input_dim': 784,'output_dim': 30, 'activation': 'relu', 'id': 'input'})\n",
    "hidden_layer = FullyConnectedLayer(layer_config={'input_dim': 30, 'output_dim': 10, 'activation': 'relu', 'id': 'hidden'})\n",
    "output_layer = FullyConnectedLayer(layer_config={'input_dim': 10, 'output_dim': 10, 'activation': 'sigmoid', 'id': 'output'})\n",
    "\n",
    "# Pick a sample from the training data and dump it directly into the first dense layer (input_layer).\n",
    "# NOTE: for learning purposes only - eventually, there will be additional layers behind the dense layers \n",
    "# and so the output of those layers will be funneled into the first dense layer instead.\n",
    "sample_num = 42\n",
    "x = X.values[sample_num].copy()\n",
    "\n",
    "# Forward pass through all layers\n",
    "input_layer.forward(input=x)\n",
    "hidden_layer.forward(input_layer)\n",
    "output_layer.forward(hidden_layer)\n",
    "\n",
    "# Compare prediction vs ground truth\n",
    "y_true = autograd_np.eye(10)[int(y.values[sample_num])] \n",
    "y_pred = output_layer.a\n",
    "loss = _crossentropy(y_true, y_pred)\n",
    "\n",
    "print(f\"Actual class label for sample {sample_num}: \\n{y_true}\")\n",
    "print(f\"Predicted class label probabilities for sample {sample_num}: \\n{y_pred}\")\n",
    "print(f\"\\nCrossEntropy Loss for first forward pass: {loss}\")"
   ]
  },
  {
   "cell_type": "markdown",
   "id": "12d71d34",
   "metadata": {},
   "source": [
    "### Okay, now what?\n",
    "We now have a loss value that compares the actual class label (which will only have a single 1 in the one-hot-encoded vector of size $n$, where $n$ is the number of classes). The next step is, naturally, to adjust weights and biases so the error is not so high next time - but how? We need some way to understand:\n",
    "\n",
    "1. How the loss $L$ changes given a change in the network output $a^{[l]}$: $\\frac{dL}{da^{[l]}}$\n",
    "2. How a change in the weights $W$ or biases $b$ affects this $a^{[l]}$ value, and therefore the loss $L$: $\\frac{dL}{dW}$ and $\\frac{dL}{db}$. \n",
    "\n",
    "How do we do this? **Calculus!** \n",
    "\n",
    "As we enumerated above in point #2, we now need to evaluate the two terms $\\frac{dL}{dW}$ and $\\frac{dL}{db}$ and use the chain rule to see how $\\frac{dL}{da^{[l]}}$ is affected.\n",
    "\n",
    "1. \n",
    "    $\\frac{dL}{dW} \n",
    "    = \\frac{dL}{da^{[2]}} \\times \\frac{da^{[2]}}{dW} \n",
    "    = \\frac{dL}{da^{[2]}} \\times \\frac{da^{[2]}}{dz^{[2]}} \\times \\frac{dz^{[2]}}{dW}$ \n",
    "\n",
    "    $Since \\ \\frac{dz^{[2]}}{dW} =  \\frac{d(W^{[2]}a^{[1]} + b^{[2]})}{dW} = a^{[1]}$,\n",
    "\n",
    "    $Therefore \\ \\frac{dL}{dW} = \\frac{dL}{da^{[2]}} \\times \\frac{da^{[2]}}{dz^{[2]}} \\times a^{[1]}$\n",
    "\n",
    "2. \n",
    "    $\\frac{dL}{db}\n",
    "    = \\frac{dL}{da^{[2]}} \\times \\frac{da^{[2]}}{db} \n",
    "    = \\frac{dL}{da^{[2]}} \\times \\frac{da^{[2]}}{dz^{[2]}} \\times \\frac{dz^{[2]}}{db}$ \n",
    "\n",
    "    $Since \\ \\frac{dz^{[2]}}{db} =  \\frac{d(W^{[2]}a^{[1]} + b^{[2]})}{db} = 1$,\n",
    "\n",
    "    $Therefore \\ \\frac{dL}{db} = \\frac{dL}{da^{[2]}} \\times \\frac{da^{[2]}}{dz^{[2]}}$\n",
    "\n",
    "<br />\n",
    "\n",
    "The term $\\frac{dL}{da^{[l]}} \\times \\frac{da^{[2]}}{dz^{[l]}}$ simplifies to $\\frac{dL}{dz^{[l]}}$ and is called the *error signal* $\\delta^{[l]}.$ Using this info, we can rewrite both expressions as:\n",
    "\n",
    "$\\frac{dL}{dW} = \\delta^{[2]} \\times a^{[1]}$, and \n",
    "$\\frac{dL}{db} = \\delta^{[2]}$."
   ]
  },
  {
   "cell_type": "markdown",
   "id": "bb3c99e3",
   "metadata": {},
   "source": [
    "### The Loss Gradient and Backpropagation"
   ]
  },
  {
   "cell_type": "code",
   "execution_count": 8,
   "id": "067a02ad",
   "metadata": {},
   "outputs": [
    {
     "name": "stdout",
     "output_type": "stream",
     "text": [
      "grad: [ 7.35202919e-04  9.80857942e-05 -1.71570234e-03 -3.53639177e-04\n",
      " -9.35221962e-05  3.00226611e-04 -3.29024739e-03 -1.89614312e-03\n",
      "  1.11984014e-03 -2.57896876e-03]\n"
     ]
    }
   ],
   "source": [
    "# Compute gradient of loss wrt model output, i.e. dL/da[2]\n",
    "loss_grad = grad(_crossentropy)\n",
    "gradients = loss_grad(y_true, y_pred)\n",
    "print(f\"grad: {gradients}\")"
   ]
  },
  {
   "cell_type": "markdown",
   "id": "5e3da81a",
   "metadata": {},
   "source": [
    "Okay great! Now that we know the math, and have computed $\\frac{dL}{da^{[l]}}$ in the cell above, it's time to implement it as code. We'll start with the error signal $\\delta^{[l]}$.\n",
    "\n",
    "#### The error signal $\\delta^{[l]}$\n",
    "Now, to compute these terms in the backward() method of a layer $l$, we first compute the value of the $\\delta^{[l]}$ vector (in this network, backprop starts from $l=2$):\n",
    " \n",
    "$\\delta^{[2]} = \\frac{dL}{da^{[2]}} \\times \\frac{da^{[2]}}{dz^{[2]}} = gradients \\times \\sigma'(z^{[2]})$, where $\\sigma$ is the activation function in layer $2$ and $\\sigma'$ is its derivative.\n",
    "\n",
    "As code, ```del_l = dA * activation_derivative(self.z)```\n",
    "\n",
    "Next, we use this $\\delta^{[2]}$ term in the calculations for $\\frac{dL}{dW} \\ and \\ \\frac{dL}{db}:$\n",
    "\n",
    "$\\frac{dL}{dW} = \\delta^{[2]} \\times a^{[1]}, \\ \\frac{dL}{db} = \\delta^{[2]}$.\n",
    "\n",
    "As code:\n",
    "```dW = np.outer(del_l, self.prev_layer_a)```, ```db = np.outer(del_l, self.prev_layer_a)```\n",
    "\n",
    "<br />\n",
    "\n",
    "#### Backpropagating the error signal\n",
    "\n",
    "When we started the backprop process, we looked at how the loss $L$ changes given a change in the network output $a^{[l]}$. i.e.: $\\frac{dL}{da^{[l]}}$.\n",
    "\n",
    "This framework holds true for the previous layer as well. From its perspective, it is *also* recieving a loss signal, but unlike the final layer, it is not the *\"gradient of loss wrt network output\"* but rather the *\"gradient of loss wrt **previous layer output\"***: $\\frac{dL}{da^{[l-1]}}$.\n",
    "\n",
    "This is the core of backprop: at each layer $l$, we compute $\\frac{dL}{da^{[l-1]}}$ and propagate it back to the previous layer $l-1$ to be used in the $\\delta^{[l-1]}$ calculation of that $l-1$ layer. Using the chain rule,\n",
    "\n",
    "$\\frac{dL}{da^{[1]}} = \\frac{dL}{dz^{[2]}} \\times \\frac{dz^{[2]}}{da^{[1]}}$. We already know $\\frac{dL}{dz^{[2]}} = \\delta^{[2]}$, so\n",
    "\n",
    "$\\frac{dL}{da^{[1]}} = \\delta^{[2]} \\times \\frac{dz^{[2]}}{da^{[1]}} = \\delta^{[2]} \\times \\frac{d(W^{[2]}a^{[1]})}{da^{[1]}}$. Taking the derivative of that final term,\n",
    "\n",
    "$\\frac{dL}{da^{[1]}} = \\delta^{[2]} \\times W^{[2]}.$ \n",
    "\n",
    "This is straightforward to implement in the backward() method of layer $l$:\n",
    "\n",
    "```np.dot(self.W.T, del_l) * activation_derivative(self.prev_layer_z)```"
   ]
  },
  {
   "cell_type": "code",
   "execution_count": 9,
   "id": "2dad45e2",
   "metadata": {},
   "outputs": [],
   "source": [
    "# Backpropagate!\n",
    "dA = gradients\n",
    "dA_2 = output_layer.backward(dA)\n",
    "dA_1 = hidden_layer.backward(dA_2)\n",
    "dA_0 = input_layer.backward(dA_1)"
   ]
  },
  {
   "cell_type": "markdown",
   "id": "e7eb4a7c",
   "metadata": {},
   "source": [
    "### A step in the right(?) direction\n",
    "\n",
    "Now that the gradients $\\frac{dL}{dW}$ and $\\frac{dL}{db}$ have been computed across all layers, it is finally time to fine-tune the weights and biases accordingly. Our math above tells us that the weight vector $W$ and the bias vector $b$ eventually influence the loss L, so nudging them slighly according to the computed gradients *should* reduce the loss.\n",
    "\n",
    "I say *should*, because there can be local minima in the loss surface that the gradients naturally pick up on.\n",
    "\n",
    "#### Adjusting weights $W^{[l]}$ and biases $b^{[l]}$\n",
    "Now that we have $\\frac{dL}{dW}$ and $\\frac{dL}{db}$ for layer $l$, we can adjust the weights $W^{[l]}$ and biases $b^{[l]}$ for layer $l$. \n",
    "\n",
    "These gradients wrt. to the loss represents the direction of steepest increase in the loss surface - essentially, it represents the direction to maximally *increase* loss. We want the opposite of this (maximally *decrease* loss), so  we perform the 'nudge', or *step* in the *opposite* direction of the gradient by using a $-$ sign:\n",
    "\n",
    "$$W = W - \\frac{dL}{dW}$$\n",
    "\n",
    "$$b = b - \\frac{dL}{db}$$\n",
    "\n",
    "However, since the error terms are quite high in magnitude especially at the start of training, directly stepping in a direction will produce a huge change in the parameters. To control this, we introduce a learning rate $\\eta$, which is used as a reduction/control factor in the step:\n",
    "\n",
    "$$W = W - \\eta \\frac{dL}{dW}$$\n",
    "\n",
    "$$b = b - \\eta \\frac{dL}{db}$$\n",
    "\n",
    "In deep learning math convention, all trainable params (so the weights and biases) are represented by $\\theta$, and the derivatove of the loss wrt to these paramaters is represented by $\\nabla_{\\theta}L$. The optimizing step can therefore be written in a single expression as:\n",
    "\n",
    "$$\\theta \\leftarrow \\theta - \\eta \\nabla_{\\theta}L$$\n",
    "\n",
    "\n",
    "As code, \n",
    "\n",
    "```self.W = self.W - learning_rate * self.dW```\n",
    "\n",
    "```self.b = self.b - learning_rate * self.b```\n",
    "\n",
    "<br />"
   ]
  },
  {
   "cell_type": "code",
   "execution_count": 10,
   "id": "b02703b3",
   "metadata": {},
   "outputs": [],
   "source": [
    "learning_rate = 0.01\n",
    "output_layer.step(learning_rate=learning_rate)\n",
    "hidden_layer.step(learning_rate=learning_rate)\n",
    "input_layer.step(learning_rate=learning_rate)"
   ]
  },
  {
   "cell_type": "markdown",
   "id": "fedb253c",
   "metadata": {},
   "source": [
    "## Testing FC layers out a smaller dataset before MNIST"
   ]
  },
  {
   "cell_type": "markdown",
   "id": "5d1bdec8",
   "metadata": {},
   "source": [
    "LeNet-5 requires additional types of layers such as Convolution and MaxPooling, so to ensure the dense layers actually work before they are added in, we first test the FC layers on a small numerical dataset. I've used the [defaults from Scikit-learn](https://scikit-learn.org/stable/modules/generated/sklearn.neural_network.MLPClassifier.html) here since it seems to work well [in practice](https://www.metriccoders.com/post/iris-flower-classification-with-mlp-classifier)."
   ]
  },
  {
   "cell_type": "code",
   "execution_count": 11,
   "id": "f0800378",
   "metadata": {},
   "outputs": [],
   "source": [
    "from sklearn.datasets import load_iris\n",
    "from sklearn.preprocessing import OneHotEncoder\n",
    "from sklearn.model_selection import train_test_split\n",
    "\n",
    "iris = load_iris()\n",
    "X = iris.data\n",
    "y = iris.target.reshape(-1, 1)\n",
    "\n",
    "encoder = OneHotEncoder(sparse_output=False)\n",
    "y_encoded = encoder.fit_transform(y)\n",
    "\n",
    "X_train, X_test, y_train, y_test = train_test_split(X, y_encoded, test_size=0.2, random_state=42)\n",
    "\n",
    "input_layer = FullyConnectedLayer({'input_dim': 4, 'output_dim': 100, 'activation': 'relu'})\n",
    "hidden_layer_1 = FullyConnectedLayer({'input_dim': 100, 'output_dim': 100, 'activation': 'relu'})\n",
    "hidden_layer_2 = FullyConnectedLayer({'input_dim': 100, 'output_dim': 100, 'activation': 'relu'})\n",
    "output_layer = FullyConnectedLayer({'input_dim': 100, 'output_dim': 3, 'activation': 'sigmoid'})"
   ]
  },
  {
   "cell_type": "code",
   "execution_count": 12,
   "id": "5c8d7830",
   "metadata": {},
   "outputs": [
    {
     "name": "stdout",
     "output_type": "stream",
     "text": [
      "Epoch 1, Loss: 0.6883\n",
      "Epoch 2, Loss: 0.6792\n",
      "Epoch 3, Loss: 0.6717\n",
      "Epoch 4, Loss: 0.6655\n",
      "Epoch 5, Loss: 0.6605\n",
      "Epoch 6, Loss: 0.6563\n",
      "Epoch 7, Loss: 0.6529\n",
      "Epoch 8, Loss: 0.6501\n",
      "Epoch 9, Loss: 0.6478\n",
      "Epoch 10, Loss: 0.6459\n",
      "Epoch 11, Loss: 0.6444\n",
      "Epoch 12, Loss: 0.6431\n",
      "Epoch 13, Loss: 0.6420\n",
      "Epoch 14, Loss: 0.6411\n",
      "Epoch 15, Loss: 0.6404\n",
      "Epoch 16, Loss: 0.6398\n",
      "Epoch 17, Loss: 0.6393\n",
      "Epoch 18, Loss: 0.6389\n",
      "Epoch 19, Loss: 0.6385\n",
      "Epoch 20, Loss: 0.6382\n",
      "Epoch 21, Loss: 0.6380\n",
      "Epoch 22, Loss: 0.6378\n",
      "Epoch 23, Loss: 0.6376\n",
      "Epoch 24, Loss: 0.6375\n",
      "Epoch 25, Loss: 0.6374\n",
      "Epoch 26, Loss: 0.6373\n",
      "Epoch 27, Loss: 0.6372\n",
      "Epoch 28, Loss: 0.6371\n",
      "Epoch 29, Loss: 0.6371\n",
      "Epoch 30, Loss: 0.6370\n",
      "Epoch 31, Loss: 0.6370\n",
      "Epoch 32, Loss: 0.6369\n",
      "Epoch 33, Loss: 0.6369\n",
      "Epoch 34, Loss: 0.6369\n",
      "Epoch 35, Loss: 0.6369\n",
      "Epoch 36, Loss: 0.6369\n",
      "Epoch 37, Loss: 0.6368\n",
      "Epoch 38, Loss: 0.6368\n",
      "Epoch 39, Loss: 0.6368\n",
      "Epoch 40, Loss: 0.6368\n",
      "Epoch 41, Loss: 0.6368\n",
      "Epoch 42, Loss: 0.6368\n",
      "Epoch 43, Loss: 0.6368\n",
      "Epoch 44, Loss: 0.6368\n",
      "Epoch 45, Loss: 0.6368\n",
      "Epoch 46, Loss: 0.6368\n",
      "Epoch 47, Loss: 0.6368\n",
      "Epoch 48, Loss: 0.6368\n",
      "Epoch 49, Loss: 0.6368\n",
      "Epoch 50, Loss: 0.6368\n",
      "Epoch 51, Loss: 0.6368\n",
      "Epoch 52, Loss: 0.6368\n",
      "Epoch 53, Loss: 0.6368\n",
      "Epoch 54, Loss: 0.6368\n",
      "Epoch 55, Loss: 0.6368\n",
      "Epoch 56, Loss: 0.6368\n",
      "Epoch 57, Loss: 0.6368\n",
      "Epoch 58, Loss: 0.6368\n",
      "Epoch 59, Loss: 0.6368\n",
      "Epoch 60, Loss: 0.6368\n",
      "Epoch 61, Loss: 0.6368\n",
      "Epoch 62, Loss: 0.6368\n",
      "Epoch 63, Loss: 0.6368\n",
      "Epoch 64, Loss: 0.6368\n",
      "Epoch 65, Loss: 0.6368\n",
      "Epoch 66, Loss: 0.6368\n",
      "Epoch 67, Loss: 0.6368\n",
      "Epoch 68, Loss: 0.6368\n",
      "Epoch 69, Loss: 0.6368\n",
      "Epoch 70, Loss: 0.6368\n",
      "Epoch 71, Loss: 0.6368\n",
      "Epoch 72, Loss: 0.6368\n",
      "Epoch 73, Loss: 0.6368\n",
      "Epoch 74, Loss: 0.6368\n",
      "Epoch 75, Loss: 0.6368\n",
      "Epoch 76, Loss: 0.6368\n",
      "Epoch 77, Loss: 0.6368\n",
      "Epoch 78, Loss: 0.6368\n",
      "Epoch 79, Loss: 0.6368\n",
      "Epoch 80, Loss: 0.6368\n",
      "Epoch 81, Loss: 0.6368\n",
      "Epoch 82, Loss: 0.6368\n",
      "Epoch 83, Loss: 0.6368\n",
      "Epoch 84, Loss: 0.6368\n",
      "Epoch 85, Loss: 0.6368\n",
      "Epoch 86, Loss: 0.6368\n",
      "Epoch 87, Loss: 0.6368\n",
      "Epoch 88, Loss: 0.6368\n",
      "Epoch 89, Loss: 0.6368\n",
      "Epoch 90, Loss: 0.6368\n",
      "Epoch 91, Loss: 0.6368\n",
      "Epoch 92, Loss: 0.6368\n",
      "Epoch 93, Loss: 0.6368\n",
      "Epoch 94, Loss: 0.6368\n",
      "Epoch 95, Loss: 0.6368\n",
      "Epoch 96, Loss: 0.6368\n",
      "Epoch 97, Loss: 0.6368\n",
      "Epoch 98, Loss: 0.6368\n",
      "Epoch 99, Loss: 0.6368\n",
      "Epoch 100, Loss: 0.6368\n"
     ]
    }
   ],
   "source": [
    "# Training params\n",
    "learning_rate = 0.01\n",
    "num_epochs = 100\n",
    "loss_curve = []\n",
    "\n",
    "def model_loss_on_output(y_pred, y_true):\n",
    "    return _crossentropy(y_true, y_pred)\n",
    "\n",
    "# Training loop\n",
    "for epoch in range(num_epochs):\n",
    "    epoch_loss = 0\n",
    "\n",
    "    for i in range(X_train.shape[0]):\n",
    "        x = X_train[i]\n",
    "        y_true = y_train[i]\n",
    "\n",
    "        # forward pass\n",
    "        input_layer.forward(x)\n",
    "        hidden_layer_1.forward(input_layer)\n",
    "        hidden_layer_2.forward(hidden_layer_1)\n",
    "        output_layer.forward(hidden_layer_2)\n",
    "        y_pred = output_layer.a\n",
    "\n",
    "        # loss computation\n",
    "        loss_val = _crossentropy(y_true, y_pred)\n",
    "        epoch_loss += loss_val\n",
    "\n",
    "        # gradients dL/dA\n",
    "        grad_fn = grad(model_loss_on_output)\n",
    "        dA = grad_fn(y_pred, y_true)\n",
    "\n",
    "        # 4. Backpropagation\n",
    "        dA_3 = output_layer.backward(dA)\n",
    "        dA_2 = hidden_layer_2.backward(dA_3)\n",
    "        dA_1 = hidden_layer_1.backward(dA_2)\n",
    "        dA_0 = input_layer.backward(dA_1)\n",
    "\n",
    "        # 5. Update weights\n",
    "        output_layer.step(learning_rate)\n",
    "        hidden_layer_2.step(learning_rate)\n",
    "        hidden_layer_1.step(learning_rate)\n",
    "        input_layer.step(learning_rate)\n",
    "\n",
    "    # Track and print average loss for epoch\n",
    "    avg_loss = epoch_loss / X_train.shape[0]\n",
    "    loss_curve.append(avg_loss)\n",
    "    print(f\"Epoch {epoch+1}, Loss: {avg_loss:.4f}\")"
   ]
  },
  {
   "cell_type": "code",
   "execution_count": 13,
   "id": "17b2fc76",
   "metadata": {},
   "outputs": [
    {
     "data": {
      "text/plain": [
       "[<matplotlib.lines.Line2D at 0x121c377d0>]"
      ]
     },
     "execution_count": 13,
     "metadata": {},
     "output_type": "execute_result"
    },
    {
     "data": {
      "image/png": "[encoded data removed]",
      "text/plain": [
       "<Figure size 640x480 with 1 Axes>"
      ]
     },
     "metadata": {},
     "output_type": "display_data"
    }
   ],
   "source": [
    "plt.plot(range(num_epochs),loss_curve)"
   ]
  }
 ],
 "metadata": {
  "kernelspec": {
   "display_name": ".venv",
   "language": "python",
   "name": "python3"
  },
  "language_info": {
   "codemirror_mode": {
    "name": "ipython",
    "version": 3
   },
   "file_extension": ".py",
   "mimetype": "text/x-python",
   "name": "python",
   "nbconvert_exporter": "python",
   "pygments_lexer": "ipython3",
   "version": "3.11.9"
  }
 },
 "nbformat": 4,
 "nbformat_minor": 5
}

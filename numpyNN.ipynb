{
 "cells": [
  {
   "cell_type": "markdown",
   "id": "10a66d93",
   "metadata": {},
   "source": [
    "# Neural Nets from scratch, in Numpy"
   ]
  },
  {
   "cell_type": "code",
   "execution_count": 1,
   "id": "ce91e2ac",
   "metadata": {},
   "outputs": [],
   "source": [
    "import numpy as np\n",
    "from sklearn.datasets import fetch_openml\n",
    "import matplotlib.pyplot as plt\n",
    "from autograd import grad, elementwise_grad, jacobian, numpy as autograd_np"
   ]
  },
  {
   "cell_type": "markdown",
   "id": "7a923e5f",
   "metadata": {},
   "source": [
    "## Network Architecture"
   ]
  },
  {
   "cell_type": "markdown",
   "id": "05bd63c0",
   "metadata": {},
   "source": [
    "LeCun et. al.'s seminal LeNet-5 is a great basic network to grok the implementation of the math behind neural nets. To begin with, we define a set of activation functions that add non-linearity to what is otherwise essentially a complex linear regression solver:"
   ]
  },
  {
   "cell_type": "markdown",
   "id": "e592f323",
   "metadata": {},
   "source": [
    "### Activations"
   ]
  },
  {
   "cell_type": "code",
   "execution_count": 2,
   "id": "515a1f9f",
   "metadata": {},
   "outputs": [],
   "source": [
    "def _relu(x):\n",
    "    return autograd_np.maximum(0, x)\n",
    "\n",
    "def _sigmoid(x):\n",
    "    x_clip = autograd_np.clip(x, -700, 700)\n",
    "    return 1 / (1 + autograd_np.exp(-x_clip))\n",
    "\n",
    "activation_function_map = {\n",
    "    'relu': _relu,\n",
    "    'sigmoid': _sigmoid\n",
    "}"
   ]
  },
  {
   "cell_type": "markdown",
   "id": "8896ac5d",
   "metadata": {},
   "source": [
    "Next, we define loss functions to measure the quality of the output layer. Since this is a classification problem, we need class membership probabilities; the sigmoid function is used as the activation of the final layer for this. The loss function, therefore, must compare this class membership probability vector against the label (ground truth) for that training observation. "
   ]
  },
  {
   "cell_type": "markdown",
   "id": "d6d5f157",
   "metadata": {},
   "source": [
    "### Loss Functions"
   ]
  },
  {
   "cell_type": "code",
   "execution_count": 3,
   "id": "4d9c5a04",
   "metadata": {},
   "outputs": [],
   "source": [
    "def _rmse(y, y_pred):\n",
    "    # RMSE = sqrt of (1/n) summation{ (y_i - y_pred_i)**2 }\n",
    "    return autograd_np.sqrt((1/y.shape[0]) * np.sum((y - y_pred) ** 2))\n",
    "\n",
    "def _crossentropy(y, y_pred):\n",
    "    # Prevent log(0)\n",
    "    eps = 1e-15\n",
    "    y_pred = autograd_np.clip(y_pred, eps, 1 - eps)\n",
    "\n",
    "    # CE = -summation{ (y_i * log(y_pred_i) + (1-y_i)*log(1-y_pred_i)}\n",
    "    return (1/y.shape[0]) * -autograd_np.sum((y * autograd_np.log(y_pred)) + ((1-y) * autograd_np.log(1-y_pred)))\n"
   ]
  },
  {
   "cell_type": "markdown",
   "id": "ffaec768",
   "metadata": {},
   "source": [
    "## The Dense Layers "
   ]
  },
  {
   "cell_type": "markdown",
   "id": "e48dfbab",
   "metadata": {},
   "source": [
    "The LeNet-5 architecture implements three dense (fully-connected) layers after feature extraction. This class defines a layer and supports weight and bias management - both during initialization as well as during backpropagation"
   ]
  },
  {
   "cell_type": "code",
   "execution_count": 11,
   "id": "3e21fd1a",
   "metadata": {},
   "outputs": [],
   "source": [
    "class FullyConnectedLayer():\n",
    "    def __init__(self, layer_config):\n",
    "        self.input_size = layer_config['input_dim']\n",
    "        self.output_size = layer_config['output_dim']\n",
    "\n",
    "        # For random normal, mu=0, sigma=1\n",
    "        mu, sigma = 0, 1\n",
    "        self.W = np.random.normal(loc=mu, scale=sigma, size=(self.output_size, self.input_size))\n",
    "        self.b =  np.random.normal(loc=mu, scale=sigma, size=self.output_size)\n",
    "        activation_function = 'relu' if not layer_config.get('activation') else layer_config.get('activation')\n",
    "        self.activation = activation_function_map[activation_function]\n",
    "        \n",
    "        # Current Layer: pre-activation and output values\n",
    "        self.z = None\n",
    "        self.a = None\n",
    "\n",
    "        # Previous Layer: pre-activation output values for backprop\n",
    "        self.prev_layer_z = None\n",
    "        self.prev_layer_a = None\n",
    "\n",
    "\n",
    "    def forward(self, input):\n",
    "        # Ensure we do not anger the numpy gods\n",
    "        assert input.shape[0] == self.W.shape[1], f\"Shape mismatch: input dim {input.shape[0]} but W expects {self.W.shape[1]}\"\n",
    "\n",
    "        # Computation 1: z[l] = W[l] a · [l-1] + b[l] \n",
    "        self.z = np.dot(self.W, input) + self.b\n",
    "        # Computation 2: a[l] = activation(z[l])\n",
    "        self.a = self.activation(self.z)\n",
    "\n",
    "        try:\n",
    "            # Keeping track of prev layer output for backprop\n",
    "            self.prev_layer_z = input.z\n",
    "            self.prev_layer_a = input.a\n",
    "        except AttributeError as e:\n",
    "            # In case the prev layer is the raw input and not another FC Layer\n",
    "            #print(f\"Gracefully handling: {e}\")\n",
    "            self.prev_layer_z = None\n",
    "            self.prev_layer_a = input\n",
    "\n",
    "    def backward(self, dA):\n",
    "        \"\"\"\n",
    "        Implement backpropagation.\n",
    "        \n",
    "        Args:\n",
    "            dA: Gradient of loss L wrt. the output (activation) of this layer. Shorthand for to dL/da\n",
    "        Returns:\n",
    "            dA[l-1]: Gradient of loss L wrt. the output of the previous layer, for backprop.\n",
    "        \"\"\"\n",
    "\n",
    "        # Step 1: Compute error signal (dL/dz[l]) called del[l] = dL/da[l] x σ'(z[l]), where σ' = activation derivative\n",
    "        # del[l] = dL/da[l] x σ'(z[l]) \n",
    "        activation_derivative = elementwise_grad(self.activation)\n",
    "        del_l = dA * activation_derivative(self.z)\n",
    "\n",
    "        # Step 2: Compute loss grad wrt. W and b of current layer i.e. dL/dW[l] and dL/db[l]\n",
    "        # dL/dw i.e. dW = del[l] x a[l-1].T\n",
    "        # dL/db i.e. db = del[l]\n",
    "        dW = np.outer(del_l, self.prev_layer_a)\n",
    "        db = del_l\n",
    "\n",
    "        # Step 3: Propagate dL/da[l-1] backwards to use in the del[l] calculation (Step 1) in the previous layer\n",
    "        # del[l-1]  = W[l].T * del[l] * σ'(z[l-1])\n",
    "        if self.prev_layer_z is not None:\n",
    "            del_l_prev = np.dot(self.W.T, del_l) * activation_derivative(self.prev_layer_z)\n",
    "        else:\n",
    "            del_l_prev = np.dot(self.W.T, del_l)\n",
    "\n",
    "        return del_l_prev"
   ]
  },
  {
   "cell_type": "markdown",
   "id": "b3a124ba",
   "metadata": {},
   "source": [
    "## Gathering Data: MNIST"
   ]
  },
  {
   "cell_type": "markdown",
   "id": "7f0c7065",
   "metadata": {},
   "source": [
    "LeNet-5 was trained on actual handwritten digits extracted from material belonging to the US Postal Service; fortunately, as the dataset is foundation ald quite popular, it is available to download and parse easily:"
   ]
  },
  {
   "cell_type": "code",
   "execution_count": 12,
   "id": "2db607ae",
   "metadata": {},
   "outputs": [],
   "source": [
    "mnist = fetch_openml('mnist_784')\n",
    "X = mnist.data\n",
    "y = mnist.target"
   ]
  },
  {
   "cell_type": "code",
   "execution_count": 13,
   "id": "fc552db8",
   "metadata": {},
   "outputs": [
    {
     "data": {
      "text/plain": [
       "<matplotlib.image.AxesImage at 0x165f12450>"
      ]
     },
     "execution_count": 13,
     "metadata": {},
     "output_type": "execute_result"
    },
    {
     "data": {
      "image/png": "[encoded data removed]",
      "text/plain": [
       "<Figure size 640x480 with 1 Axes>"
      ]
     },
     "metadata": {},
     "output_type": "display_data"
    }
   ],
   "source": [
    "plt.imshow(X.values[0].reshape(28,28), cmap='gray')"
   ]
  },
  {
   "cell_type": "markdown",
   "id": "e5061fb4",
   "metadata": {},
   "source": [
    "## Implementing LeNet-5 (under construction)"
   ]
  },
  {
   "cell_type": "markdown",
   "id": "3b245277",
   "metadata": {},
   "source": [
    "### 1. The first forward pass"
   ]
  },
  {
   "cell_type": "code",
   "execution_count": 14,
   "id": "079dd911",
   "metadata": {},
   "outputs": [
    {
     "name": "stdout",
     "output_type": "stream",
     "text": [
      "Actual class label for sample 42: \n",
      "[0. 0. 0. 0. 0. 0. 0. 1. 0. 0.]\n",
      "Predicted class label probabilities for sample 42 (rounded): \n",
      "[1.    1.    1.    1.    1.    1.    0.    1.    0.311 1.   ]\n",
      "\n",
      "CrossEntropy Loss for first forward pass: 24.214924232533306\n"
     ]
    }
   ],
   "source": [
    "# LeNet-5 (only dense layers for testing)\n",
    "input_layer =  FullyConnectedLayer(layer_config={'input_dim': 784,'output_dim': 30, 'activation': 'relu'})\n",
    "hidden_layer = FullyConnectedLayer(layer_config={'input_dim': 30, 'output_dim': 10, 'activation': 'relu'})\n",
    "output_layer = FullyConnectedLayer(layer_config={'input_dim': 10, 'output_dim': 10, 'activation': 'sigmoid'})\n",
    "\n",
    "# Pick a sample from the training data and dump it directly into the first dense layer (input_layer).\n",
    "# NOTE: for learning purposes only - eventually, there will be additional layers behind the dense layers \n",
    "# and so the output of those layers will be funneled into the first dense layer instead.\n",
    "sample_num = 42\n",
    "x = X.values[sample_num].copy()\n",
    "\n",
    "# Forward pass through all layers\n",
    "input_layer.forward(input=x)\n",
    "hidden_layer.forward(input_layer.a)\n",
    "output_layer.forward(hidden_layer.a)\n",
    "\n",
    "# Compare prediction vs ground truth\n",
    "y_true = np.eye(10)[int(y.values[sample_num])] \n",
    "y_pred = output_layer.a\n",
    "loss = _crossentropy(y_true, y_pred)\n",
    "\n",
    "print(f\"Actual class label for sample {sample_num}: \\n{y_true}\")\n",
    "print(f\"Predicted class label probabilities for sample {sample_num} (rounded): \\n{np.round(y_pred, decimals=3)}\")\n",
    "print(f\"\\nCrossEntropy Loss for first forward pass: {loss}\")"
   ]
  },
  {
   "cell_type": "markdown",
   "id": "12d71d34",
   "metadata": {},
   "source": [
    "### Okay, now what?\n",
    "We now have a loss value that compares the actual class label (which will only have a single 1 in the one-hot-encoded vector of size $n$, where $n$ is the number of classes). The next step is, naturally, to adjust weights and biases - but how? For this, we need to understand how the Loss $L$ changes given a change in the weights $W$ or biases $b$. How do we do this? Calculus!\n",
    "\n",
    "We now need to evaluate these two terms: $\\frac{dL}{dW}$ and $\\frac{dL}{db}$\n",
    "\n",
    "1. $\\frac{dL}{dW}$\n",
    "\n",
    "    $\\frac{dL}{dW} \n",
    "    = \\frac{dL}{da^{[2]}} \\times \\frac{da^{[2]}}{dW} \n",
    "    = \\frac{dL}{da^{[2]}} \\times \\frac{da^{[2]}}{dz^{[2]}} \\times \\frac{dz^{[2]}}{dW}$ \n",
    "\n",
    "    $Since \\ \\frac{dz^{[2]}}{dW} =  \\frac{d(W^{[2]}a^{[1]} + b^{[2]})}{dW} = a^{[1]}$,\n",
    "\n",
    "    $Therefore \\ \\frac{dL}{dW} = \\frac{dL}{da^{[2]}} \\times \\frac{da^{[2]}}{dz^{[2]}} \\times a^{[1]}$\n",
    "\n",
    "\n",
    "\n",
    "2. $\\frac{dL}{db}$\n",
    "\n",
    "    $\\frac{dL}{db}\n",
    "    = \\frac{dL}{da^{[2]}} \\times \\frac{da^{[2]}}{db} \n",
    "    = \\frac{dL}{da^{[2]}} \\times \\frac{da^{[2]}}{dz^{[2]}} \\times \\frac{dz^{[2]}}{db}$ \n",
    "\n",
    "    $Since \\ \\frac{dz^{[2]}}{db} =  \\frac{d(W^{[2]}a^{[1]} + b^{[2]})}{db} = 1$,\n",
    "\n",
    "    $Therefore \\ \\frac{dL}{db} = \\frac{dL}{da^{[2]}} \\times \\frac{da^{[2]}}{dz^{[2]}}$\n",
    "\n",
    "\n",
    "The term $\\frac{dL}{da^{[l]}} \\times \\frac{da^{[2]}}{dz^{[l]}}$ simplifies to $\\frac{dL}{dz^{[l]}}$ and is called the *error signal* $\\delta^{[l]}.$ Using this info, we can rewrite both expressions as:\n",
    "\n",
    "$\\frac{dL}{dW} = \\delta^{[2]} \\times a^{[1]}$, and \n",
    "$\\frac{dL}{db} = \\delta^{[2]}$.\n",
    "\n",
    "\n"
   ]
  },
  {
   "cell_type": "code",
   "execution_count": 15,
   "id": "067a02ad",
   "metadata": {},
   "outputs": [
    {
     "name": "stdout",
     "output_type": "stream",
     "text": [
      "grad: [-3.4539576  -3.4539576  -3.4539576  -3.4539576  -3.4539576  -3.4539576\n",
      "  3.45387764 -3.4539576   0.0796425  -3.4539576 ]\n"
     ]
    }
   ],
   "source": [
    "# Compute gradient of loss wrt model output, i.e. dL/da[2]\n",
    "loss_grad = grad(_crossentropy)\n",
    "gradients = loss_grad(y_true, y_pred)\n",
    "print(f\"grad: {gradients}\")"
   ]
  },
  {
   "cell_type": "code",
   "execution_count": 17,
   "id": "2dad45e2",
   "metadata": {},
   "outputs": [],
   "source": [
    "# Backpropagate!\n",
    "dA_2 = gradients\n",
    "dA_1 = output_layer.backward(dA_2)\n",
    "dA_0 = hidden_layer.backward(dA_1)"
   ]
  },
  {
   "cell_type": "code",
   "execution_count": null,
   "id": "26d83509",
   "metadata": {},
   "outputs": [],
   "source": []
  }
 ],
 "metadata": {
  "kernelspec": {
   "display_name": ".venv",
   "language": "python",
   "name": "python3"
  },
  "language_info": {
   "codemirror_mode": {
    "name": "ipython",
    "version": 3
   },
   "file_extension": ".py",
   "mimetype": "text/x-python",
   "name": "python",
   "nbconvert_exporter": "python",
   "pygments_lexer": "ipython3",
   "version": "3.11.9"
  }
 },
 "nbformat": 4,
 "nbformat_minor": 5
}

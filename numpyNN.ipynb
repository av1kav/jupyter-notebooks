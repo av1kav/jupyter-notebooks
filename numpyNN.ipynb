{
 "cells": [
  {
   "cell_type": "markdown",
   "id": "10a66d93",
   "metadata": {},
   "source": [
    "# Neural Nets from scratch, in Numpy"
   ]
  },
  {
   "cell_type": "code",
   "execution_count": 1,
   "id": "ce91e2ac",
   "metadata": {},
   "outputs": [],
   "source": [
    "import numpy as np\n",
    "from sklearn.datasets import fetch_openml\n",
    "import matplotlib.pyplot as plt\n",
    "from autograd import grad, elementwise_grad, jacobian, numpy as autograd_np"
   ]
  },
  {
   "cell_type": "markdown",
   "id": "7a923e5f",
   "metadata": {},
   "source": [
    "## Network Architecture"
   ]
  },
  {
   "cell_type": "markdown",
   "id": "05bd63c0",
   "metadata": {},
   "source": [
    "LeCun et. al.'s seminal LeNet-5 is a great basic network to grok the implementation of the math behind neural nets. To begin with, we define a set of activation functions that add non-linearity to what is otherwise essentially a complex linear regression solver:"
   ]
  },
  {
   "cell_type": "markdown",
   "id": "e592f323",
   "metadata": {},
   "source": [
    "### Activations"
   ]
  },
  {
   "cell_type": "code",
   "execution_count": 67,
   "id": "515a1f9f",
   "metadata": {},
   "outputs": [],
   "source": [
    "def _relu(x):\n",
    "    return autograd_np.maximum(0, x)\n",
    "\n",
    "def _sigmoid(x):\n",
    "    x_clip = autograd_np.clip(x, -700, 700)\n",
    "    return 1 / (1 + autograd_np.exp(-x_clip))\n",
    "\n",
    "def _softmax(x):\n",
    "    # Subtract max for numerical stability (avoids overflow from exp)\n",
    "    shifted_x = x - autograd_np.max(x)\n",
    "    exps = autograd_np.exp(shifted_x)\n",
    "    return exps / autograd_np.sum(exps)\n",
    "\n",
    "activation_function_map = {\n",
    "    'relu': _relu,\n",
    "    'sigmoid': _sigmoid,\n",
    "    'softmax': _softmax\n",
    "}"
   ]
  },
  {
   "cell_type": "markdown",
   "id": "8896ac5d",
   "metadata": {},
   "source": [
    "Next, we define loss functions to measure the quality of the output layer. Since this is a classification problem, we need class membership probabilities; the sigmoid function is used as the activation of the final layer for this. The loss function, therefore, must compare this class membership probability vector against the label (ground truth) for that training observation. "
   ]
  },
  {
   "cell_type": "markdown",
   "id": "d6d5f157",
   "metadata": {},
   "source": [
    "### Loss Functions"
   ]
  },
  {
   "cell_type": "code",
   "execution_count": 74,
   "id": "4d9c5a04",
   "metadata": {},
   "outputs": [],
   "source": [
    "def _rmse(y, y_pred):\n",
    "    # RMSE = sqrt of (1/n) summation{ (y_i - y_pred_i)**2 }\n",
    "    return autograd_np.sqrt((1/y.shape[0]) * np.sum((y - y_pred) ** 2))\n",
    "\n",
    "def _crossentropy(y, y_pred):\n",
    "    # Prevent log(0)\n",
    "    eps = 1e-15\n",
    "    y_pred = autograd_np.clip(y_pred, eps, 1 - eps)\n",
    "\n",
    "    # CE = -summation{ (y_i * log(y_pred_i) + (1-y_i)*log(1-y_pred_i)}\n",
    "    return (1/y.shape[0]) * -autograd_np.sum((y * autograd_np.log(y_pred)) + ((1-y) * autograd_np.log(1-y_pred)))\n",
    "\n",
    "def _softmax_crossentropy(y_true, y_pred):\n",
    "    eps = 1e-15\n",
    "    y_pred = autograd_np.clip(y_pred, eps, 1 - eps)\n",
    "    return -autograd_np.sum(y_true * autograd_np.log(y_pred))\n"
   ]
  },
  {
   "cell_type": "markdown",
   "id": "ffaec768",
   "metadata": {},
   "source": [
    "## The Dense Layers "
   ]
  },
  {
   "cell_type": "markdown",
   "id": "e48dfbab",
   "metadata": {},
   "source": [
    "The LeNet-5 architecture implements three dense (fully-connected) layers after feature extraction. This class defines a layer and supports weight and bias management - both during initialization as well as during backpropagation"
   ]
  },
  {
   "cell_type": "code",
   "execution_count": 111,
   "id": "3e21fd1a",
   "metadata": {},
   "outputs": [],
   "source": [
    "class FullyConnectedLayer():\n",
    "    def __init__(self, layer_config):\n",
    "        self.input_size = layer_config['input_dim']\n",
    "        self.output_size = layer_config['output_dim']\n",
    "        self.id = layer_config.get('id', None)\n",
    "\n",
    "        # For random normal, mu=0, sigma=1\n",
    "        mu, sigma = 0, 1\n",
    "        self.W = np.random.normal(loc=mu, scale=sigma, size=(self.output_size, self.input_size))\n",
    "        self.b =  np.random.normal(loc=mu, scale=sigma, size=self.output_size)\n",
    "        activation_function = 'relu' if not layer_config.get('activation') else layer_config.get('activation')\n",
    "        self.activation = activation_function_map[activation_function]\n",
    "        \n",
    "        # Current Layer: pre-activation and output values\n",
    "        self.z = None\n",
    "        self.a = None\n",
    "\n",
    "        # Previous Layer: pre-activation output values for backprop\n",
    "        self.prev_layer_z = None\n",
    "        self.prev_layer_a = None\n",
    "\n",
    "\n",
    "    def forward(self, input):\n",
    "        \"\"\"\n",
    "        Implement the forward pass.\n",
    "\n",
    "        Args:\n",
    "            input: A previous FC Layer or the raw input x values. This will be used to compute z and a, and keeps track of prev_z and prev_a\n",
    "                for use during backpropagation.\n",
    "        Returns:\n",
    "            None\n",
    "        \"\"\"\n",
    "        if isinstance(input, FullyConnectedLayer):\n",
    "            x = input.a # input is the previous FC layer, not raw values, so extract the post-activation vector a\n",
    "            self.prev_layer_z = input.z\n",
    "            self.prev_layer_a = input.a   \n",
    "        else:\n",
    "            x = input # input is the raw X values\n",
    "            self.prev_layer_z = None\n",
    "            self.prev_layer_a = input\n",
    "\n",
    "        # Ensure we do not anger the numpy gods\n",
    "        assert x.shape[0] == self.W.shape[1], f\"Shape mismatch: input dim {x.shape[0]} but W expects {self.W.shape[1]}\"\n",
    "\n",
    "        # Computation 1: z[l] = W[l]·x + b[l] (x = a[l-1] if the input is a FC layer, otherwise x=x) \n",
    "        self.z = np.dot(self.W, x) + self.b\n",
    "        # Computation 2: a[l] = activation(z[l])\n",
    "        self.a = self.activation(self.z)\n",
    "\n",
    "    def backward(self, dA):\n",
    "        \"\"\"\n",
    "        Implement backpropagation.\n",
    "        \n",
    "        Args:\n",
    "            dA: Gradient of loss L wrt. the output (activation) of this layer. Shorthand for to dL/da\n",
    "        Returns:\n",
    "            dA[l-1]: Gradient of loss L wrt. the output of the previous layer, for backprop.\n",
    "        \"\"\"\n",
    "\n",
    "        # Step 1: Compute error signal dL/dz[l] called del[l] = dL/da[l] x σ'(z[l]), where σ' = activation derivative\n",
    "        # del[l] = dL/da[l] x σ'(z[l]) \n",
    "        activation_derivative = elementwise_grad(self.activation) # σ'()\n",
    "        self.del_l = dA * activation_derivative(self.z) # dL/da[l] x σ'(z[l]) \n",
    "\n",
    "        # override\n",
    "        if self.activation.__name__ == '_softmax':\n",
    "            self.del_l = dA  # because dL/dz = a - y\n",
    "\n",
    "        # Step 2: Compute loss grad wrt. W and b of current layer i.e. dL/dW[l] and dL/db[l]\n",
    "        # dL/dw i.e. dW = del[l] x a[l-1].T\n",
    "        # dL/db i.e. db = del[l]\n",
    "        self.dW = np.outer(self.del_l, self.prev_layer_a)\n",
    "        self.db = self.del_l\n",
    "\n",
    "        # Step 3: Propagate dL/da[l-1] backwards to use in the del[l] calculation (Step 1) in the previous layer\n",
    "        # del[l-1]  = W[l].T * del[l] * σ'(z[l-1])\n",
    "\n",
    "        if self.prev_layer_z is not None:\n",
    "            del_l_prev = np.dot(self.W.T, self.del_l) * activation_derivative(self.prev_layer_z)\n",
    "        else:\n",
    "            del_l_prev = np.dot(self.W.T, self.del_l)\n",
    "        \n",
    "        return del_l_prev\n",
    "    \n",
    "    def step(self, learning_rate):\n",
    "        self.W = self.W - learning_rate * self.dW\n",
    "        self.b = self.b - learning_rate * self.db\n"
   ]
  },
  {
   "cell_type": "markdown",
   "id": "b3a124ba",
   "metadata": {},
   "source": [
    "## Gathering Data: MNIST"
   ]
  },
  {
   "cell_type": "markdown",
   "id": "7f0c7065",
   "metadata": {},
   "source": [
    "LeNet-5 was trained on actual handwritten digits extracted from material belonging to the US Postal Service; fortunately, as the dataset is foundation ald quite popular, it is available to download and parse easily:"
   ]
  },
  {
   "cell_type": "code",
   "execution_count": 5,
   "id": "2db607ae",
   "metadata": {},
   "outputs": [],
   "source": [
    "mnist = fetch_openml('mnist_784')\n",
    "X = mnist.data\n",
    "y = mnist.target"
   ]
  },
  {
   "cell_type": "code",
   "execution_count": 6,
   "id": "fc552db8",
   "metadata": {},
   "outputs": [
    {
     "data": {
      "text/plain": [
       "<matplotlib.image.AxesImage at 0x126d94290>"
      ]
     },
     "execution_count": 6,
     "metadata": {},
     "output_type": "execute_result"
    },
    {
     "data": {
      "image/png": "[encoded data removed]",
      "text/plain": [
       "<Figure size 640x480 with 1 Axes>"
      ]
     },
     "metadata": {},
     "output_type": "display_data"
    }
   ],
   "source": [
    "plt.imshow(X.values[0].reshape(28,28), cmap='gray')"
   ]
  },
  {
   "cell_type": "markdown",
   "id": "e5061fb4",
   "metadata": {},
   "source": [
    "## Implementing LeNet-5 (under construction)"
   ]
  },
  {
   "cell_type": "markdown",
   "id": "3b245277",
   "metadata": {},
   "source": [
    "### 1. The first forward pass"
   ]
  },
  {
   "cell_type": "code",
   "execution_count": 7,
   "id": "079dd911",
   "metadata": {},
   "outputs": [
    {
     "name": "stdout",
     "output_type": "stream",
     "text": [
      "Actual class label for sample 42: \n",
      "[0. 0. 0. 0. 0. 0. 0. 1. 0. 0.]\n",
      "Predicted class label probabilities for sample 42 (rounded): \n",
      "[0. 1. 1. 1. 1. 0. 0. 1. 0. 0.]\n",
      "\n",
      "CrossEntropy Loss for first forward pass: 13.815830396936352\n"
     ]
    }
   ],
   "source": [
    "# LeNet-5 (only dense layers for testing)\n",
    "input_layer =  FullyConnectedLayer(layer_config={'input_dim': 784,'output_dim': 30, 'activation': 'relu', 'id': 'input'})\n",
    "hidden_layer = FullyConnectedLayer(layer_config={'input_dim': 30, 'output_dim': 10, 'activation': 'relu', 'id': 'hidden'})\n",
    "output_layer = FullyConnectedLayer(layer_config={'input_dim': 10, 'output_dim': 10, 'activation': 'sigmoid', 'id': 'output'})\n",
    "\n",
    "# Pick a sample from the training data and dump it directly into the first dense layer (input_layer).\n",
    "# NOTE: for learning purposes only - eventually, there will be additional layers behind the dense layers \n",
    "# and so the output of those layers will be funneled into the first dense layer instead.\n",
    "sample_num = 42\n",
    "x = X.values[sample_num].copy()\n",
    "\n",
    "# Forward pass through all layers\n",
    "input_layer.forward(input=x)\n",
    "hidden_layer.forward(input_layer)\n",
    "output_layer.forward(hidden_layer)\n",
    "\n",
    "# Compare prediction vs ground truth\n",
    "y_true = np.eye(10)[int(y.values[sample_num])] \n",
    "y_pred = output_layer.a\n",
    "loss = _crossentropy(y_true, y_pred)\n",
    "\n",
    "print(f\"Actual class label for sample {sample_num}: \\n{y_true}\")\n",
    "print(f\"Predicted class label probabilities for sample {sample_num} (rounded): \\n{np.round(y_pred, decimals=3)}\")\n",
    "print(f\"\\nCrossEntropy Loss for first forward pass: {loss}\")"
   ]
  },
  {
   "cell_type": "markdown",
   "id": "12d71d34",
   "metadata": {},
   "source": [
    "### Okay, now what?\n",
    "We now have a loss value that compares the actual class label (which will only have a single 1 in the one-hot-encoded vector of size $n$, where $n$ is the number of classes). The next step is, naturally, to adjust weights and biases so the error is not so high next time - but how? We need some way to understand:\n",
    "\n",
    "1. How the loss $L$ changes given a change in the network output $a^{[l]}$: $\\frac{dL}{da^{[l]}}$\n",
    "2. How a change in the weights $W$ or biases $b$ affects this $a^{[l]}$ value, and therefore the loss $L$: $\\frac{dL}{dW}$ and $\\frac{dL}{db}$. \n",
    "\n",
    "How do we do this? **Calculus!** \n",
    "\n",
    "As we enumerated above in point #2, we now need to evaluate the two terms $\\frac{dL}{dW}$ and $\\frac{dL}{db}$ and use the chain rule to see how $\\frac{dL}{da^{[l]}}$ is affected.\n",
    "\n",
    "1. \n",
    "    $\\frac{dL}{dW} \n",
    "    = \\frac{dL}{da^{[2]}} \\times \\frac{da^{[2]}}{dW} \n",
    "    = \\frac{dL}{da^{[2]}} \\times \\frac{da^{[2]}}{dz^{[2]}} \\times \\frac{dz^{[2]}}{dW}$ \n",
    "\n",
    "    $Since \\ \\frac{dz^{[2]}}{dW} =  \\frac{d(W^{[2]}a^{[1]} + b^{[2]})}{dW} = a^{[1]}$,\n",
    "\n",
    "    $Therefore \\ \\frac{dL}{dW} = \\frac{dL}{da^{[2]}} \\times \\frac{da^{[2]}}{dz^{[2]}} \\times a^{[1]}$\n",
    "\n",
    "2. \n",
    "    $\\frac{dL}{db}\n",
    "    = \\frac{dL}{da^{[2]}} \\times \\frac{da^{[2]}}{db} \n",
    "    = \\frac{dL}{da^{[2]}} \\times \\frac{da^{[2]}}{dz^{[2]}} \\times \\frac{dz^{[2]}}{db}$ \n",
    "\n",
    "    $Since \\ \\frac{dz^{[2]}}{db} =  \\frac{d(W^{[2]}a^{[1]} + b^{[2]})}{db} = 1$,\n",
    "\n",
    "    $Therefore \\ \\frac{dL}{db} = \\frac{dL}{da^{[2]}} \\times \\frac{da^{[2]}}{dz^{[2]}}$\n",
    "\n",
    "<br />\n",
    "\n",
    "The term $\\frac{dL}{da^{[l]}} \\times \\frac{da^{[2]}}{dz^{[l]}}$ simplifies to $\\frac{dL}{dz^{[l]}}$ and is called the *error signal* $\\delta^{[l]}.$ Using this info, we can rewrite both expressions as:\n",
    "\n",
    "$\\frac{dL}{dW} = \\delta^{[2]} \\times a^{[1]}$, and \n",
    "$\\frac{dL}{db} = \\delta^{[2]}$."
   ]
  },
  {
   "cell_type": "markdown",
   "id": "bb3c99e3",
   "metadata": {},
   "source": [
    "### 2. The Loss Gradient and Backpropagation"
   ]
  },
  {
   "cell_type": "code",
   "execution_count": 8,
   "id": "067a02ad",
   "metadata": {},
   "outputs": [
    {
     "name": "stdout",
     "output_type": "stream",
     "text": [
      "grad: [ 3.45387764 -3.4539576  -3.4539576  -3.4539576  -3.4539576   3.45387764\n",
      "  3.45387764 -3.4539576   3.45387764  3.45387764]\n"
     ]
    }
   ],
   "source": [
    "# Compute gradient of loss wrt model output, i.e. dL/da[2]\n",
    "loss_grad = grad(_crossentropy)\n",
    "gradients = loss_grad(y_true, y_pred)\n",
    "print(f\"grad: {gradients}\")"
   ]
  },
  {
   "cell_type": "markdown",
   "id": "5e3da81a",
   "metadata": {},
   "source": [
    "Okay great! Now that we know the math, and have computed $\\frac{dL}{da^{[l]}}$ in the cell above, it's time to implement it as code. We'll start with the error signal $\\delta^{[l]}$.\n",
    "\n",
    "#### The error signal $\\delta^{[l]}$\n",
    "Now, to compute these terms in the backward() method of a layer $l$, we first compute the value of the $\\delta^{[l]}$ vector (in this network, backprop starts from $l=2$):\n",
    " \n",
    "$\\delta^{[2]} = \\frac{dL}{da^{[2]}} \\times \\frac{da^{[2]}}{dz^{[2]}} = gradients \\times \\sigma'(z^{[2]})$, where $\\sigma$ is the activation function in layer $2$ and $\\sigma'$ is its derivative.\n",
    "\n",
    "As code, ```del_l = dA * activation_derivative(self.z)```\n",
    "\n",
    "Next, we use this $\\delta^{[2]}$ term in the calculations for $\\frac{dL}{dW} \\ and \\ \\frac{dL}{db}:$\n",
    "\n",
    "$\\frac{dL}{dW} = \\delta^{[2]} \\times a^{[1]}, \\ \\frac{dL}{db} = \\delta^{[2]}$.\n",
    "\n",
    "As code:\n",
    "```dW = np.outer(del_l, self.prev_layer_a)```, ```db = np.outer(del_l, self.prev_layer_a)```\n",
    "\n",
    "<br />\n",
    "\n",
    "#### Backpropagating the error signal\n",
    "\n",
    "When we started the backprop process, we looked at how the loss $L$ changes given a change in the network output $a^{[l]}$. i.e.: $\\frac{dL}{da^{[l]}}$.\n",
    "\n",
    "This framework holds true for the previous layer as well. From its perspective, it is *also* recieving a loss signal, but unlike the final layer, it is not the *\"gradient of loss wrt network output\"* but rather the *\"gradient of loss wrt **previous layer output\"***: $\\frac{dL}{da^{[l-1]}}$.\n",
    "\n",
    "This is the core of backprop: at each layer $l$, we compute $\\frac{dL}{da^{[l-1]}}$ and propagate it back to the previous layer $l-1$ to be used in the $\\delta^{[l-1]}$ calculation of that $l-1$ layer. Using the chain rule,\n",
    "\n",
    "$\\frac{dL}{da^{[1]}} = \\frac{dL}{dz^{[2]}} \\times \\frac{dz^{[2]}}{da^{[1]}}$. We already know $\\frac{dL}{dz^{[2]}} = \\delta^{[2]}$, so\n",
    "\n",
    "$\\frac{dL}{da^{[1]}} = \\delta^{[2]} \\times \\frac{dz^{[2]}}{da^{[1]}} = \\delta^{[2]} \\times \\frac{d(W^{[2]}a^{[1]})}{da^{[1]}}$. Taking the derivative of that final term,\n",
    "\n",
    "$\\frac{dL}{da^{[1]}} = \\delta^{[2]} \\times W^{[2]}.$ \n",
    "\n",
    "This is straightforward to implement in the backward() method of layer $l$:\n",
    "\n",
    "```np.dot(self.W.T, del_l) * activation_derivative(self.prev_layer_z)```"
   ]
  },
  {
   "cell_type": "code",
   "execution_count": 9,
   "id": "2dad45e2",
   "metadata": {},
   "outputs": [
    {
     "name": "stderr",
     "output_type": "stream",
     "text": [
      "/Users/avenugopal/Desktop/Prep/Python/jupyter-notebooks/.venv/lib/python3.11/site-packages/autograd/numpy/numpy_vjps.py:125: RuntimeWarning: overflow encountered in square\n",
      "  lambda ans, x, y: unbroadcast_f(y, lambda g: -g * x / y**2),\n"
     ]
    }
   ],
   "source": [
    "# Backpropagate!\n",
    "dA = gradients\n",
    "dA_2 = output_layer.backward(dA)\n",
    "dA_1 = hidden_layer.backward(dA_2)\n",
    "dA_0 = input_layer.backward(dA_1)"
   ]
  },
  {
   "cell_type": "markdown",
   "id": "e7eb4a7c",
   "metadata": {},
   "source": [
    "### 3. A step in the right(?) direction\n",
    "\n",
    "Now that the gradients $\\frac{dL}{dW}$ and $\\frac{dL}{db}$ have been computed across all layers, it is finally time to fine-tune the weights and biases accordingly. Our math above tells us that the weight vector $W$ and the bias vector $b$ eventually influence the loss L, so nudging them slighly according to the computed gradients *should* reduce the loss.\n",
    "\n",
    "I say *should*, because there can be local minima in the loss surface that the gradients naturally pick up on.\n",
    "\n",
    "#### Adjusting weights $W^{[l]}$ and biases $b^{[l]}$\n",
    "Now that we have $\\frac{dL}{dW}$ and $\\frac{dL}{db}$ for layer $l$, we can adjust the weights $W^{[l]}$ and biases $b^{[l]}$ for layer $l$. \n",
    "\n",
    "These gradients wrt. to the loss represents the direction of steepest increase in the loss surface - essentially, it represents the direction to maximally *increase* loss. We want the opposite of this (maximally *decrease* loss), so  we perform the 'nudge', or *step* in the *opposite* direction of the gradient by using a $-$ sign:\n",
    "\n",
    "$$W = W - \\frac{dL}{dW}$$\n",
    "\n",
    "$$b = b - \\frac{dL}{db}$$\n",
    "\n",
    "However, since the error terms are quite high in magnitude especially at the start of training, directly stepping in a direction will produce a huge change in the parameters. To control this, we introduce a learning rate $\\eta$, which is used as a reduction/control factor in the step:\n",
    "\n",
    "$$W = W - \\eta \\frac{dL}{dW}$$\n",
    "\n",
    "$$b = b - \\eta \\frac{dL}{db}$$\n",
    "\n",
    "In deep learning math convention, all trainable params (so the weights and biases) are represented by $\\theta$. The optimizing step can therefore be written in a single expression as:\n",
    "\n",
    "$$\\theta \\leftarrow \\theta - \\eta \\Delta_{\\theta}L$$\n",
    "\n",
    "\n",
    "As code, \n",
    "\n",
    "```self.W = self.W - learning_rate * self.dW```\n",
    "\n",
    "```self.b = self.b - learning_rate * self.b```\n",
    "\n",
    "<br />"
   ]
  },
  {
   "cell_type": "code",
   "execution_count": 10,
   "id": "b02703b3",
   "metadata": {},
   "outputs": [],
   "source": [
    "learning_rate = 0.01\n",
    "output_layer.step(learning_rate=learning_rate)\n",
    "hidden_layer.step(learning_rate=learning_rate)\n",
    "input_layer.step(learning_rate=learning_rate)\n"
   ]
  },
  {
   "cell_type": "markdown",
   "id": "fedb253c",
   "metadata": {},
   "source": [
    "## Trying out a smaller dataset before MNIST"
   ]
  },
  {
   "cell_type": "code",
   "execution_count": 119,
   "id": "3022c058",
   "metadata": {},
   "outputs": [
    {
     "name": "stdout",
     "output_type": "stream",
     "text": [
      "||dW|| (output): 488.8002425107878\n",
      "||dW|| (output): 540.4382604032429\n",
      "||dW|| (output): 655.9871335214134\n",
      "||dW|| (output): 655.9871335214134\n",
      "||dW|| (output): 655.9871335214134\n",
      "||dW|| (output): 655.9871335214134\n",
      "||dW|| (output): 655.9871335214134\n",
      "||dW|| (output): 655.9871335214134\n",
      "||dW|| (output): 655.9871335214134\n",
      "||dW|| (output): 655.9871335214134\n",
      "||dW|| (output): 655.9871335214134\n",
      "||dW|| (output): 655.9871335214134\n",
      "||dW|| (output): 655.9871335214134\n",
      "||dW|| (output): 655.9871335214134\n",
      "||dW|| (output): 655.9871335214134\n",
      "||dW|| (output): 655.9871335214134\n",
      "||dW|| (output): 655.9871335214134\n",
      "||dW|| (output): 655.9871335214134\n",
      "||dW|| (output): 655.9871335214134\n",
      "||dW|| (output): 655.9871335214134\n",
      "||dW|| (output): 655.9871335214134\n",
      "||dW|| (output): 655.9871335214133\n",
      "||dW|| (output): 655.9871335214133\n",
      "||dW|| (output): 655.9871335214133\n",
      "||dW|| (output): 655.9871335214133\n",
      "||dW|| (output): 655.9871335214133\n",
      "||dW|| (output): 655.9871335214133\n",
      "||dW|| (output): 655.9871335214133\n",
      "||dW|| (output): 655.9871335214134\n",
      "||dW|| (output): 655.9871335214136\n",
      "||dW|| (output): 655.987133521414\n",
      "||dW|| (output): 655.987133521414\n",
      "||dW|| (output): 655.987133521414\n",
      "||dW|| (output): 655.987133521414\n",
      "||dW|| (output): 655.9871335214142\n",
      "||dW|| (output): 655.9871335214142\n",
      "||dW|| (output): 655.9871335214142\n",
      "||dW|| (output): 655.9871335214145\n",
      "||dW|| (output): 655.9871335214148\n",
      "||dW|| (output): 655.9871335214146\n",
      "||dW|| (output): 655.9871335214149\n",
      "||dW|| (output): 655.9871335214151\n",
      "||dW|| (output): 655.987133521415\n",
      "||dW|| (output): 655.9871335214152\n",
      "||dW|| (output): 655.9871335214154\n",
      "||dW|| (output): 655.9871335214152\n",
      "||dW|| (output): 655.9871335214152\n",
      "||dW|| (output): 655.9871335214149\n",
      "||dW|| (output): 655.9871335214148\n",
      "||dW|| (output): 655.9871335214146\n",
      "||dW|| (output): 655.9871335214148\n",
      "||dW|| (output): 655.9871335214148\n",
      "||dW|| (output): 655.9871335214149\n",
      "||dW|| (output): 655.9871335214146\n",
      "||dW|| (output): 655.987133521415\n",
      "||dW|| (output): 655.9871335214149\n",
      "||dW|| (output): 655.9871335214152\n",
      "||dW|| (output): 655.987133521415\n",
      "||dW|| (output): 655.9871335214148\n",
      "||dW|| (output): 655.9871335214149\n",
      "||dW|| (output): 655.9871335214153\n",
      "||dW|| (output): 655.9871335214152\n",
      "||dW|| (output): 655.9871335214154\n",
      "||dW|| (output): 655.9871335214156\n",
      "||dW|| (output): 655.9871335214156\n",
      "||dW|| (output): 655.9871335214156\n",
      "||dW|| (output): 655.9871335214153\n",
      "||dW|| (output): 655.9871335214152\n",
      "||dW|| (output): 655.9871335214149\n",
      "||dW|| (output): 655.9871335214152\n",
      "||dW|| (output): 655.9871335214149\n",
      "||dW|| (output): 655.9871335214152\n",
      "||dW|| (output): 655.9871335214153\n",
      "||dW|| (output): 655.987133521416\n",
      "||dW|| (output): 655.9871335214154\n",
      "||dW|| (output): 655.9871335214154\n",
      "||dW|| (output): 655.9871335214159\n",
      "||dW|| (output): 655.9871335214156\n",
      "||dW|| (output): 655.9871335214157\n",
      "||dW|| (output): 655.9871335214153\n",
      "||dW|| (output): 655.9871335214154\n",
      "||dW|| (output): 655.9871335214153\n",
      "||dW|| (output): 655.9871335214153\n",
      "||dW|| (output): 655.9871335214148\n",
      "||dW|| (output): 655.9871335214152\n",
      "||dW|| (output): 655.987133521415\n",
      "||dW|| (output): 655.987133521415\n",
      "||dW|| (output): 655.9871335214154\n",
      "||dW|| (output): 655.9871335214144\n",
      "||dW|| (output): 655.9871335214144\n",
      "||dW|| (output): 655.987133521414\n",
      "||dW|| (output): 655.9871335214141\n",
      "||dW|| (output): 655.9871335214148\n",
      "||dW|| (output): 655.9871335214145\n",
      "||dW|| (output): 655.9871335214142\n",
      "||dW|| (output): 655.987133521415\n",
      "||dW|| (output): 655.9871335214144\n",
      "||dW|| (output): 655.9871335214144\n",
      "||dW|| (output): 655.987133521414\n",
      "||dW|| (output): 655.9871335214148\n"
     ]
    },
    {
     "data": {
      "text/plain": [
       "[<matplotlib.lines.Line2D at 0x10dafad50>]"
      ]
     },
     "execution_count": 119,
     "metadata": {},
     "output_type": "execute_result"
    },
    {
     "data": {
      "image/png": "[encoded data removed]",
      "text/plain": [
       "<Figure size 640x480 with 1 Axes>"
      ]
     },
     "metadata": {},
     "output_type": "display_data"
    }
   ],
   "source": [
    "from sklearn.datasets import load_iris\n",
    "from sklearn.preprocessing import OneHotEncoder\n",
    "from sklearn.model_selection import train_test_split\n",
    "import numpy as np\n",
    "\n",
    "# Load dataset\n",
    "iris = load_iris()\n",
    "X = iris.data\n",
    "y = iris.target.reshape(-1, 1)\n",
    "\n",
    "# One-hot encode target\n",
    "encoder = OneHotEncoder(sparse_output=False)\n",
    "y_encoded = encoder.fit_transform(y)\n",
    "\n",
    "# Train-test split (optional, keep 80% train for now)\n",
    "X_train, X_test, y_train, y_test = train_test_split(X, y_encoded, test_size=0.2, random_state=42)\n",
    "\n",
    "# Network setup\n",
    "input_layer = FullyConnectedLayer({'input_dim': 4, 'output_dim': 8, 'activation': 'relu'})\n",
    "hidden_layer = FullyConnectedLayer({'input_dim': 8, 'output_dim': 5, 'activation': 'relu'})\n",
    "output_layer = FullyConnectedLayer({'input_dim': 5, 'output_dim': 3, 'activation': 'softmax'})\n",
    "\n",
    "# Training loop\n",
    "learning_rate = 0.00005\n",
    "num_epochs = 100\n",
    "loss_curve = []\n",
    "\n",
    "for epoch in range(num_epochs):\n",
    "    epoch_loss = 0\n",
    "\n",
    "    for i in range(X_train.shape[0]):\n",
    "        x = X_train[i]  \n",
    "        y_true = y_train[i]\n",
    "\n",
    "        # Forward pass\n",
    "        input_layer.forward(x)\n",
    "        hidden_layer.forward(input_layer)\n",
    "        output_layer.forward(hidden_layer)\n",
    "\n",
    "        y_pred = output_layer.a\n",
    "        loss = _softmax_crossentropy(y_true, y_pred)\n",
    "        epoch_loss += loss\n",
    "\n",
    "        #print(y_true)\n",
    "        #print(np.round(y_pred, decimals=3))\n",
    "        #print()\n",
    "\n",
    "        # Backpropagation\n",
    "        loss_grad = grad(_softmax_crossentropy)\n",
    "        dA = loss_grad(y_true, y_pred)\n",
    "        #print(\"dA:\", dA)\n",
    "\n",
    "        dA_2 = output_layer.backward(dA)\n",
    "        dA_1 = hidden_layer.backward(dA_2)\n",
    "        dA_0 = input_layer.backward(dA_1)\n",
    "\n",
    "        # Update weights\n",
    "        output_layer.step(learning_rate)\n",
    "        hidden_layer.step(learning_rate)\n",
    "        input_layer.step(learning_rate)\n",
    "\n",
    "    print(f\"||dW|| (output): {np.linalg.norm(output_layer.dW)}\")\n",
    "    avg_loss = epoch_loss / X_train.shape[1]\n",
    "    #print(f\"Epoch {epoch+1}, Loss: {avg_loss:.4f}\")\n",
    "    loss_curve.append(avg_loss)\n",
    "\n",
    "plt.plot(range(num_epochs),loss_curve)"
   ]
  }
 ],
 "metadata": {
  "kernelspec": {
   "display_name": ".venv",
   "language": "python",
   "name": "python3"
  },
  "language_info": {
   "codemirror_mode": {
    "name": "ipython",
    "version": 3
   },
   "file_extension": ".py",
   "mimetype": "text/x-python",
   "name": "python",
   "nbconvert_exporter": "python",
   "pygments_lexer": "ipython3",
   "version": "3.11.9"
  }
 },
 "nbformat": 4,
 "nbformat_minor": 5
}
